{
  "nbformat": 4,
  "nbformat_minor": 0,
  "metadata": {
    "colab": {
      "name": "Bank Note.ipynb",
      "provenance": [],
      "collapsed_sections": []
    },
    "kernelspec": {
      "name": "python3",
      "display_name": "Python 3"
    },
    "language_info": {
      "name": "python"
    },
    "accelerator": "GPU"
  },
  "cells": [
    {
      "cell_type": "code",
      "metadata": {
        "colab": {
          "resources": {
            "http://localhost:8080/nbextensions/google.colab/files.js": {
              "data": "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",
              "ok": true,
              "headers": [
                [
                  "content-type",
                  "application/javascript"
                ]
              ],
              "status": 200,
              "status_text": ""
            }
          },
          "base_uri": "https://localhost:8080/",
          "height": 89
        },
        "id": "v_uFOf2lBmvE",
        "outputId": "fc385beb-df88-4a88-fb79-1aedb3986498"
      },
      "source": [
        "#Get the data from the kaggel \n",
        "! pip install -q kaggle\n",
        "from google.colab import files\n",
        "files.upload()"
      ],
      "execution_count": 1,
      "outputs": [
        {
          "output_type": "display_data",
          "data": {
            "text/html": [
              "\n",
              "     <input type=\"file\" id=\"files-9caf02a8-0b9b-4687-a055-d69f62b5bdd7\" name=\"files[]\" multiple disabled\n",
              "        style=\"border:none\" />\n",
              "     <output id=\"result-9caf02a8-0b9b-4687-a055-d69f62b5bdd7\">\n",
              "      Upload widget is only available when the cell has been executed in the\n",
              "      current browser session. Please rerun this cell to enable.\n",
              "      </output>\n",
              "      <script src=\"/nbextensions/google.colab/files.js\"></script> "
            ],
            "text/plain": [
              "<IPython.core.display.HTML object>"
            ]
          },
          "metadata": {
            "tags": []
          }
        },
        {
          "output_type": "stream",
          "text": [
            "Saving kaggle.json to kaggle.json\n"
          ],
          "name": "stdout"
        },
        {
          "output_type": "execute_result",
          "data": {
            "text/plain": [
              "{'kaggle.json': b'{\"username\":\"praneethkumar12\",\"key\":\"f6db1f3966165e81ae160ea0e14da28f\"}'}"
            ]
          },
          "metadata": {
            "tags": []
          },
          "execution_count": 1
        }
      ]
    },
    {
      "cell_type": "code",
      "metadata": {
        "id": "DOvHw-cSB5kb"
      },
      "source": [
        "! mkdir ~/.kaggle\n",
        "! cp kaggle.json ~/.kaggle/\n",
        "! chmod 600 ~/.kaggle/kaggle.json"
      ],
      "execution_count": 2,
      "outputs": []
    },
    {
      "cell_type": "code",
      "metadata": {
        "colab": {
          "base_uri": "https://localhost:8080/"
        },
        "id": "qIZ3so3BB9ia",
        "outputId": "6d84ba06-4f86-44d7-8b6d-0f1c90b417dc"
      },
      "source": [
        "! kaggle datasets download -d ritesaluja/bank-note-authentication-uci-data"
      ],
      "execution_count": 3,
      "outputs": [
        {
          "output_type": "stream",
          "text": [
            "Downloading bank-note-authentication-uci-data.zip to /content\n",
            "\r  0% 0.00/19.2k [00:00<?, ?B/s]\n",
            "\r100% 19.2k/19.2k [00:00<00:00, 34.5MB/s]\n"
          ],
          "name": "stdout"
        }
      ]
    },
    {
      "cell_type": "code",
      "metadata": {
        "colab": {
          "base_uri": "https://localhost:8080/"
        },
        "id": "L3WWXfKVB7BJ",
        "outputId": "cd08fa72-67e7-4c9e-ed0d-338dc562edd7"
      },
      "source": [
        "#unzip the file\n",
        "#unzip the zile\n",
        "from zipfile import ZipFile\n",
        "file_name='/content/bank-note-authentication-uci-data.zip'\n",
        "\n",
        "with ZipFile(file_name,'r') as zip:\n",
        "  zip.extractall()\n",
        "  print('Done')"
      ],
      "execution_count": 14,
      "outputs": [
        {
          "output_type": "stream",
          "text": [
            "Done\n"
          ],
          "name": "stdout"
        }
      ]
    },
    {
      "cell_type": "code",
      "metadata": {
        "id": "JAtPmVKiCdbK"
      },
      "source": [
        "#Load the libraries\n",
        "import pandas as pd\n",
        "import numpy as np\n",
        "import matplotlib.pyplot as plt\n",
        "import seaborn as sns\n",
        "%matplotlib inline\n",
        "import tensorflow as tf\n",
        "import keras\n",
        "from tensorflow.keras.layers import Dense,Dropout,MaxPooling2D\n",
        "from kerastuner.tuners import RandomSearch\n",
        "from tensorflow.keras.models import Sequential"
      ],
      "execution_count": 16,
      "outputs": []
    },
    {
      "cell_type": "code",
      "metadata": {
        "colab": {
          "base_uri": "https://localhost:8080/",
          "height": 204
        },
        "id": "F8TYGPNfCTOu",
        "outputId": "a3429afa-3e71-40f5-d84d-7a038b9be6c6"
      },
      "source": [
        "#Load the bank Note dataset\n",
        "df = pd.read_csv(\"/content/BankNote_Authentication.csv\")\n",
        "df.head()"
      ],
      "execution_count": 17,
      "outputs": [
        {
          "output_type": "execute_result",
          "data": {
            "text/html": [
              "<div>\n",
              "<style scoped>\n",
              "    .dataframe tbody tr th:only-of-type {\n",
              "        vertical-align: middle;\n",
              "    }\n",
              "\n",
              "    .dataframe tbody tr th {\n",
              "        vertical-align: top;\n",
              "    }\n",
              "\n",
              "    .dataframe thead th {\n",
              "        text-align: right;\n",
              "    }\n",
              "</style>\n",
              "<table border=\"1\" class=\"dataframe\">\n",
              "  <thead>\n",
              "    <tr style=\"text-align: right;\">\n",
              "      <th></th>\n",
              "      <th>variance</th>\n",
              "      <th>skewness</th>\n",
              "      <th>curtosis</th>\n",
              "      <th>entropy</th>\n",
              "      <th>class</th>\n",
              "    </tr>\n",
              "  </thead>\n",
              "  <tbody>\n",
              "    <tr>\n",
              "      <th>0</th>\n",
              "      <td>3.62160</td>\n",
              "      <td>8.6661</td>\n",
              "      <td>-2.8073</td>\n",
              "      <td>-0.44699</td>\n",
              "      <td>0</td>\n",
              "    </tr>\n",
              "    <tr>\n",
              "      <th>1</th>\n",
              "      <td>4.54590</td>\n",
              "      <td>8.1674</td>\n",
              "      <td>-2.4586</td>\n",
              "      <td>-1.46210</td>\n",
              "      <td>0</td>\n",
              "    </tr>\n",
              "    <tr>\n",
              "      <th>2</th>\n",
              "      <td>3.86600</td>\n",
              "      <td>-2.6383</td>\n",
              "      <td>1.9242</td>\n",
              "      <td>0.10645</td>\n",
              "      <td>0</td>\n",
              "    </tr>\n",
              "    <tr>\n",
              "      <th>3</th>\n",
              "      <td>3.45660</td>\n",
              "      <td>9.5228</td>\n",
              "      <td>-4.0112</td>\n",
              "      <td>-3.59440</td>\n",
              "      <td>0</td>\n",
              "    </tr>\n",
              "    <tr>\n",
              "      <th>4</th>\n",
              "      <td>0.32924</td>\n",
              "      <td>-4.4552</td>\n",
              "      <td>4.5718</td>\n",
              "      <td>-0.98880</td>\n",
              "      <td>0</td>\n",
              "    </tr>\n",
              "  </tbody>\n",
              "</table>\n",
              "</div>"
            ],
            "text/plain": [
              "   variance  skewness  curtosis  entropy  class\n",
              "0   3.62160    8.6661   -2.8073 -0.44699      0\n",
              "1   4.54590    8.1674   -2.4586 -1.46210      0\n",
              "2   3.86600   -2.6383    1.9242  0.10645      0\n",
              "3   3.45660    9.5228   -4.0112 -3.59440      0\n",
              "4   0.32924   -4.4552    4.5718 -0.98880      0"
            ]
          },
          "metadata": {
            "tags": []
          },
          "execution_count": 17
        }
      ]
    },
    {
      "cell_type": "code",
      "metadata": {
        "colab": {
          "base_uri": "https://localhost:8080/"
        },
        "id": "1doESjo8CbY5",
        "outputId": "1c5bb30e-7b61-4251-8221-73979735e19f"
      },
      "source": [
        "#Check the count of target classes and confirm is balanced data or not\n",
        "df['class'].value_counts()"
      ],
      "execution_count": 18,
      "outputs": [
        {
          "output_type": "execute_result",
          "data": {
            "text/plain": [
              "0    762\n",
              "1    610\n",
              "Name: class, dtype: int64"
            ]
          },
          "metadata": {
            "tags": []
          },
          "execution_count": 18
        }
      ]
    },
    {
      "cell_type": "code",
      "metadata": {
        "colab": {
          "base_uri": "https://localhost:8080/"
        },
        "id": "3NXaQwrIDYZn",
        "outputId": "28d143bd-1488-4df2-d380-fcb19bc4c77a"
      },
      "source": [
        "#Check the shape of the data set\n",
        "print(\"Number of columns: \",df.shape[1])\n",
        "print(\"Number of observations: \",df.shape[0])"
      ],
      "execution_count": 19,
      "outputs": [
        {
          "output_type": "stream",
          "text": [
            "Number of columns:  5\n",
            "Number of observations:  1372\n"
          ],
          "name": "stdout"
        }
      ]
    },
    {
      "cell_type": "markdown",
      "metadata": {
        "id": "ESF8QpNfHdWa"
      },
      "source": [
        "This is not a many rows of the data for neural networks and suggest that a small netwrok,perhaps with regularization, would be appropriate."
      ]
    },
    {
      "cell_type": "code",
      "metadata": {
        "colab": {
          "base_uri": "https://localhost:8080/",
          "height": 297
        },
        "id": "WaKqJc_iDtor",
        "outputId": "dfa4674a-10f2-4a41-aae8-b54179fc90cb"
      },
      "source": [
        "#Check the summary of the complete data using describe function which returns complete statistical information of the data\n",
        "df.describe()"
      ],
      "execution_count": 20,
      "outputs": [
        {
          "output_type": "execute_result",
          "data": {
            "text/html": [
              "<div>\n",
              "<style scoped>\n",
              "    .dataframe tbody tr th:only-of-type {\n",
              "        vertical-align: middle;\n",
              "    }\n",
              "\n",
              "    .dataframe tbody tr th {\n",
              "        vertical-align: top;\n",
              "    }\n",
              "\n",
              "    .dataframe thead th {\n",
              "        text-align: right;\n",
              "    }\n",
              "</style>\n",
              "<table border=\"1\" class=\"dataframe\">\n",
              "  <thead>\n",
              "    <tr style=\"text-align: right;\">\n",
              "      <th></th>\n",
              "      <th>variance</th>\n",
              "      <th>skewness</th>\n",
              "      <th>curtosis</th>\n",
              "      <th>entropy</th>\n",
              "      <th>class</th>\n",
              "    </tr>\n",
              "  </thead>\n",
              "  <tbody>\n",
              "    <tr>\n",
              "      <th>count</th>\n",
              "      <td>1372.000000</td>\n",
              "      <td>1372.000000</td>\n",
              "      <td>1372.000000</td>\n",
              "      <td>1372.000000</td>\n",
              "      <td>1372.000000</td>\n",
              "    </tr>\n",
              "    <tr>\n",
              "      <th>mean</th>\n",
              "      <td>0.433735</td>\n",
              "      <td>1.922353</td>\n",
              "      <td>1.397627</td>\n",
              "      <td>-1.191657</td>\n",
              "      <td>0.444606</td>\n",
              "    </tr>\n",
              "    <tr>\n",
              "      <th>std</th>\n",
              "      <td>2.842763</td>\n",
              "      <td>5.869047</td>\n",
              "      <td>4.310030</td>\n",
              "      <td>2.101013</td>\n",
              "      <td>0.497103</td>\n",
              "    </tr>\n",
              "    <tr>\n",
              "      <th>min</th>\n",
              "      <td>-7.042100</td>\n",
              "      <td>-13.773100</td>\n",
              "      <td>-5.286100</td>\n",
              "      <td>-8.548200</td>\n",
              "      <td>0.000000</td>\n",
              "    </tr>\n",
              "    <tr>\n",
              "      <th>25%</th>\n",
              "      <td>-1.773000</td>\n",
              "      <td>-1.708200</td>\n",
              "      <td>-1.574975</td>\n",
              "      <td>-2.413450</td>\n",
              "      <td>0.000000</td>\n",
              "    </tr>\n",
              "    <tr>\n",
              "      <th>50%</th>\n",
              "      <td>0.496180</td>\n",
              "      <td>2.319650</td>\n",
              "      <td>0.616630</td>\n",
              "      <td>-0.586650</td>\n",
              "      <td>0.000000</td>\n",
              "    </tr>\n",
              "    <tr>\n",
              "      <th>75%</th>\n",
              "      <td>2.821475</td>\n",
              "      <td>6.814625</td>\n",
              "      <td>3.179250</td>\n",
              "      <td>0.394810</td>\n",
              "      <td>1.000000</td>\n",
              "    </tr>\n",
              "    <tr>\n",
              "      <th>max</th>\n",
              "      <td>6.824800</td>\n",
              "      <td>12.951600</td>\n",
              "      <td>17.927400</td>\n",
              "      <td>2.449500</td>\n",
              "      <td>1.000000</td>\n",
              "    </tr>\n",
              "  </tbody>\n",
              "</table>\n",
              "</div>"
            ],
            "text/plain": [
              "          variance     skewness     curtosis      entropy        class\n",
              "count  1372.000000  1372.000000  1372.000000  1372.000000  1372.000000\n",
              "mean      0.433735     1.922353     1.397627    -1.191657     0.444606\n",
              "std       2.842763     5.869047     4.310030     2.101013     0.497103\n",
              "min      -7.042100   -13.773100    -5.286100    -8.548200     0.000000\n",
              "25%      -1.773000    -1.708200    -1.574975    -2.413450     0.000000\n",
              "50%       0.496180     2.319650     0.616630    -0.586650     0.000000\n",
              "75%       2.821475     6.814625     3.179250     0.394810     1.000000\n",
              "max       6.824800    12.951600    17.927400     2.449500     1.000000"
            ]
          },
          "metadata": {
            "tags": []
          },
          "execution_count": 20
        }
      ]
    },
    {
      "cell_type": "code",
      "metadata": {
        "colab": {
          "base_uri": "https://localhost:8080/",
          "height": 787
        },
        "id": "ewu8kUuGD41K",
        "outputId": "ec94e5ae-5107-470b-d857-9bba87b21613"
      },
      "source": [
        "#Check the distribution of the data using the hist plot\n",
        "df.hist(figsize=(15,12))\n",
        "plt.suptitle(\"Distribution of the numerical data\",fontsize=19)\n",
        "plt.show()"
      ],
      "execution_count": 21,
      "outputs": [
        {
          "output_type": "display_data",
          "data": {
            "image/png": "[encoded data removed]",
            "text/plain": [
              "<Figure size 1080x864 with 6 Axes>"
            ]
          },
          "metadata": {
            "tags": [],
            "needs_background": "light"
          }
        }
      ]
    },
    {
      "cell_type": "markdown",
      "metadata": {
        "id": "7EqPo_uqEIn0"
      },
      "source": [
        "As we can observe that some of the variables in our dataset have some skewness i.e.,cutosis and entrophy show right and left skewnees whereas in variance and skewness display's like it is a gaussina distribution. We need to handle it by using the some of the feature transformation techniques such as \"Power transform\",\"Box cox transformation\" or \"Log normal tranformation\". Genrally logarthemic transformation perform well on the skewness data, it converts the data in to gaussian distribution or normal distribuiton."
      ]
    },
    {
      "cell_type": "markdown",
      "metadata": {
        "id": "GTxHhWuHIP-t"
      },
      "source": [
        "## Neural netwrok"
      ]
    },
    {
      "cell_type": "code",
      "metadata": {
        "colab": {
          "base_uri": "https://localhost:8080/",
          "height": 204
        },
        "id": "Q8rUsP1YFGy5",
        "outputId": "056e3328-9b07-4f97-b9f6-6d36afd3e2b4"
      },
      "source": [
        "#Check the data type and null values in the data\n",
        "d_sum = pd.DataFrame({'Dtype':df.dtypes,\"Null_values\":df.isnull().sum()})\n",
        "d_sum"
      ],
      "execution_count": 22,
      "outputs": [
        {
          "output_type": "execute_result",
          "data": {
            "text/html": [
              "<div>\n",
              "<style scoped>\n",
              "    .dataframe tbody tr th:only-of-type {\n",
              "        vertical-align: middle;\n",
              "    }\n",
              "\n",
              "    .dataframe tbody tr th {\n",
              "        vertical-align: top;\n",
              "    }\n",
              "\n",
              "    .dataframe thead th {\n",
              "        text-align: right;\n",
              "    }\n",
              "</style>\n",
              "<table border=\"1\" class=\"dataframe\">\n",
              "  <thead>\n",
              "    <tr style=\"text-align: right;\">\n",
              "      <th></th>\n",
              "      <th>Dtype</th>\n",
              "      <th>Null_values</th>\n",
              "    </tr>\n",
              "  </thead>\n",
              "  <tbody>\n",
              "    <tr>\n",
              "      <th>variance</th>\n",
              "      <td>float64</td>\n",
              "      <td>0</td>\n",
              "    </tr>\n",
              "    <tr>\n",
              "      <th>skewness</th>\n",
              "      <td>float64</td>\n",
              "      <td>0</td>\n",
              "    </tr>\n",
              "    <tr>\n",
              "      <th>curtosis</th>\n",
              "      <td>float64</td>\n",
              "      <td>0</td>\n",
              "    </tr>\n",
              "    <tr>\n",
              "      <th>entropy</th>\n",
              "      <td>float64</td>\n",
              "      <td>0</td>\n",
              "    </tr>\n",
              "    <tr>\n",
              "      <th>class</th>\n",
              "      <td>int64</td>\n",
              "      <td>0</td>\n",
              "    </tr>\n",
              "  </tbody>\n",
              "</table>\n",
              "</div>"
            ],
            "text/plain": [
              "            Dtype  Null_values\n",
              "variance  float64            0\n",
              "skewness  float64            0\n",
              "curtosis  float64            0\n",
              "entropy   float64            0\n",
              "class       int64            0"
            ]
          },
          "metadata": {
            "tags": []
          },
          "execution_count": 22
        }
      ]
    },
    {
      "cell_type": "code",
      "metadata": {
        "id": "jBPQhJD9Fosv"
      },
      "source": [
        "#Split the data in to x and y\n",
        "x = df.drop(columns=['class'],axis=1)\n",
        "y = df['class']"
      ],
      "execution_count": 23,
      "outputs": []
    },
    {
      "cell_type": "markdown",
      "metadata": {
        "id": "lfd-tSqlIOCL"
      },
      "source": [
        "We will develop a Multilayer Perceptron (MLP) model for the dataset using TensorFlow.\n",
        "\n",
        "We cannot know what model architecture of learning hyperparameters would be good or best for this dataset, so we must experiment and discover what works well.\n",
        "\n",
        "Given that the dataset is small, a small batch size is probably a good idea, e.g. 16 or 32 rows. Using the Adam version of stochastic gradient descent is a good idea when getting started as it will automatically adapt the learning rate and works well on most datasets.\n",
        "\n",
        "Before we evaluate models in earnest, it is a good idea to review the learning dynamics and tune the model architecture and learning configuration until we have stable learning dynamics, then look at getting the most out of the model.\n",
        "\n",
        "We can do this by using a simple train/test split of the data and review plots of the learning curves. This will help us see if we are over-learning or under-learning; then we can adapt the configuration accordingly."
      ]
    },
    {
      "cell_type": "markdown",
      "metadata": {
        "id": "FHCYXQLmIDVj"
      },
      "source": [
        "Now we are going to split the data set in to training set and validation set by the rule of 80/20 rule ie.,80% training set and 20% testing set"
      ]
    },
    {
      "cell_type": "code",
      "metadata": {
        "id": "oXyrsPcRJN-s"
      },
      "source": [
        "from sklearn.model_selection import train_test_split\n",
        "x_train,x_val,y_train,y_val = train_test_split(x,y,test_size=0.2,random_state=0)"
      ],
      "execution_count": 24,
      "outputs": []
    },
    {
      "cell_type": "markdown",
      "metadata": {
        "id": "rid4uz3CJ_em"
      },
      "source": [
        "We can define Multilayer perceptron neural network"
      ]
    },
    {
      "cell_type": "code",
      "metadata": {
        "id": "XHHSTZwvPaW3"
      },
      "source": [
        "from tensorflow.keras.activations import relu,sigmoid,swish,softmax,softplus\n",
        "from tensorflow.keras.layers import LeakyReLU,PReLU,ELU\n",
        "from tensorflow.keras import activations"
      ],
      "execution_count": 25,
      "outputs": []
    },
    {
      "cell_type": "markdown",
      "metadata": {
        "id": "2IgQGrukXPPZ"
      },
      "source": [
        "As mentioned in Task sheet, we need to select the best performing activation function with out using Tuning the parameters of the activation functions with the gridsearh cv or brute force.\n",
        "\n",
        "Let's try with the different activation functions, compare it, then select the best outperforming activation function for our model.\n",
        "\n",
        "### Activation functions.\n",
        "1. Sigmiod.\n",
        "2. Softmax.\n",
        "3. Relu.\n",
        "4. LeakyRelu.\n",
        "5. Swish.\n",
        "6. ELU\n",
        "7. Softplus.\n",
        "8. Prelu."
      ]
    },
    {
      "cell_type": "markdown",
      "metadata": {
        "id": "oBk7wQo2Q1DG"
      },
      "source": [
        "### 1. Sigmoid"
      ]
    },
    {
      "cell_type": "code",
      "metadata": {
        "id": "lh8We8ra8zy9"
      },
      "source": [
        "#initialize the model \n",
        "feat = x.shape[1]\n",
        "model = Sequential()\n",
        "model.add(Dense(50,activation='sigmoid',input_shape=(feat,)))\n",
        "model.add(Dense(1,activation='sigmoid'))\n",
        "model.compile(loss='binary_crossentropy',optimizer='adam',metrics=['accuracy'])"
      ],
      "execution_count": 47,
      "outputs": []
    },
    {
      "cell_type": "code",
      "metadata": {
        "colab": {
          "base_uri": "https://localhost:8080/"
        },
        "id": "mBX5n5_q8z1W",
        "outputId": "9ffb6486-3b2c-4711-e992-15fd9a486875"
      },
      "source": [
        "hist_sig = model.fit(x_train,y_train,validation_data=(x_val,y_val),epochs=50,batch_size=32,verbose=1)"
      ],
      "execution_count": 48,
      "outputs": [
        {
          "output_type": "stream",
          "text": [
            "Epoch 1/50\n",
            "35/35 [==============================] - 1s 6ms/step - loss: 0.8035 - accuracy: 0.4603 - val_loss: 0.6575 - val_accuracy: 0.6691\n",
            "Epoch 2/50\n",
            "35/35 [==============================] - 0s 2ms/step - loss: 0.6024 - accuracy: 0.7767 - val_loss: 0.5280 - val_accuracy: 0.8545\n",
            "Epoch 3/50\n",
            "35/35 [==============================] - 0s 3ms/step - loss: 0.5071 - accuracy: 0.8733 - val_loss: 0.4476 - val_accuracy: 0.9309\n",
            "Epoch 4/50\n",
            "35/35 [==============================] - 0s 2ms/step - loss: 0.4326 - accuracy: 0.9298 - val_loss: 0.3814 - val_accuracy: 0.9418\n",
            "Epoch 5/50\n",
            "35/35 [==============================] - 0s 2ms/step - loss: 0.3688 - accuracy: 0.9581 - val_loss: 0.3261 - val_accuracy: 0.9600\n",
            "Epoch 6/50\n",
            "35/35 [==============================] - 0s 2ms/step - loss: 0.3137 - accuracy: 0.9699 - val_loss: 0.2783 - val_accuracy: 0.9709\n",
            "Epoch 7/50\n",
            "35/35 [==============================] - 0s 2ms/step - loss: 0.2677 - accuracy: 0.9754 - val_loss: 0.2382 - val_accuracy: 0.9636\n",
            "Epoch 8/50\n",
            "35/35 [==============================] - 0s 3ms/step - loss: 0.2296 - accuracy: 0.9809 - val_loss: 0.2051 - val_accuracy: 0.9636\n",
            "Epoch 9/50\n",
            "35/35 [==============================] - 0s 2ms/step - loss: 0.1980 - accuracy: 0.9818 - val_loss: 0.1774 - val_accuracy: 0.9673\n",
            "Epoch 10/50\n",
            "35/35 [==============================] - 0s 2ms/step - loss: 0.1719 - accuracy: 0.9854 - val_loss: 0.1554 - val_accuracy: 0.9745\n",
            "Epoch 11/50\n",
            "35/35 [==============================] - 0s 2ms/step - loss: 0.1507 - accuracy: 0.9854 - val_loss: 0.1367 - val_accuracy: 0.9782\n",
            "Epoch 12/50\n",
            "35/35 [==============================] - 0s 2ms/step - loss: 0.1334 - accuracy: 0.9872 - val_loss: 0.1213 - val_accuracy: 0.9782\n",
            "Epoch 13/50\n",
            "35/35 [==============================] - 0s 2ms/step - loss: 0.1188 - accuracy: 0.9881 - val_loss: 0.1090 - val_accuracy: 0.9782\n",
            "Epoch 14/50\n",
            "35/35 [==============================] - 0s 2ms/step - loss: 0.1071 - accuracy: 0.9881 - val_loss: 0.0981 - val_accuracy: 0.9891\n",
            "Epoch 15/50\n",
            "35/35 [==============================] - 0s 3ms/step - loss: 0.0973 - accuracy: 0.9900 - val_loss: 0.0895 - val_accuracy: 0.9891\n",
            "Epoch 16/50\n",
            "35/35 [==============================] - 0s 2ms/step - loss: 0.0889 - accuracy: 0.9891 - val_loss: 0.0817 - val_accuracy: 0.9891\n",
            "Epoch 17/50\n",
            "35/35 [==============================] - 0s 3ms/step - loss: 0.0820 - accuracy: 0.9918 - val_loss: 0.0752 - val_accuracy: 0.9927\n",
            "Epoch 18/50\n",
            "35/35 [==============================] - 0s 2ms/step - loss: 0.0759 - accuracy: 0.9909 - val_loss: 0.0695 - val_accuracy: 0.9927\n",
            "Epoch 19/50\n",
            "35/35 [==============================] - 0s 2ms/step - loss: 0.0706 - accuracy: 0.9918 - val_loss: 0.0650 - val_accuracy: 0.9927\n",
            "Epoch 20/50\n",
            "35/35 [==============================] - 0s 2ms/step - loss: 0.0662 - accuracy: 0.9918 - val_loss: 0.0605 - val_accuracy: 0.9927\n",
            "Epoch 21/50\n",
            "35/35 [==============================] - 0s 2ms/step - loss: 0.0622 - accuracy: 0.9918 - val_loss: 0.0567 - val_accuracy: 0.9927\n",
            "Epoch 22/50\n",
            "35/35 [==============================] - 0s 2ms/step - loss: 0.0587 - accuracy: 0.9918 - val_loss: 0.0532 - val_accuracy: 0.9927\n",
            "Epoch 23/50\n",
            "35/35 [==============================] - 0s 2ms/step - loss: 0.0556 - accuracy: 0.9918 - val_loss: 0.0504 - val_accuracy: 0.9927\n",
            "Epoch 24/50\n",
            "35/35 [==============================] - 0s 2ms/step - loss: 0.0530 - accuracy: 0.9918 - val_loss: 0.0478 - val_accuracy: 0.9927\n",
            "Epoch 25/50\n",
            "35/35 [==============================] - 0s 2ms/step - loss: 0.0504 - accuracy: 0.9918 - val_loss: 0.0452 - val_accuracy: 0.9927\n",
            "Epoch 26/50\n",
            "35/35 [==============================] - 0s 2ms/step - loss: 0.0481 - accuracy: 0.9918 - val_loss: 0.0432 - val_accuracy: 0.9927\n",
            "Epoch 27/50\n",
            "35/35 [==============================] - 0s 2ms/step - loss: 0.0461 - accuracy: 0.9918 - val_loss: 0.0413 - val_accuracy: 0.9927\n",
            "Epoch 28/50\n",
            "35/35 [==============================] - 0s 2ms/step - loss: 0.0445 - accuracy: 0.9918 - val_loss: 0.0394 - val_accuracy: 0.9927\n",
            "Epoch 29/50\n",
            "35/35 [==============================] - 0s 3ms/step - loss: 0.0427 - accuracy: 0.9918 - val_loss: 0.0378 - val_accuracy: 0.9927\n",
            "Epoch 30/50\n",
            "35/35 [==============================] - 0s 2ms/step - loss: 0.0410 - accuracy: 0.9918 - val_loss: 0.0364 - val_accuracy: 0.9927\n",
            "Epoch 31/50\n",
            "35/35 [==============================] - 0s 3ms/step - loss: 0.0397 - accuracy: 0.9918 - val_loss: 0.0352 - val_accuracy: 0.9927\n",
            "Epoch 32/50\n",
            "35/35 [==============================] - 0s 2ms/step - loss: 0.0383 - accuracy: 0.9918 - val_loss: 0.0336 - val_accuracy: 0.9927\n",
            "Epoch 33/50\n",
            "35/35 [==============================] - 0s 2ms/step - loss: 0.0371 - accuracy: 0.9918 - val_loss: 0.0325 - val_accuracy: 0.9927\n",
            "Epoch 34/50\n",
            "35/35 [==============================] - 0s 2ms/step - loss: 0.0360 - accuracy: 0.9918 - val_loss: 0.0313 - val_accuracy: 0.9927\n",
            "Epoch 35/50\n",
            "35/35 [==============================] - 0s 2ms/step - loss: 0.0351 - accuracy: 0.9918 - val_loss: 0.0302 - val_accuracy: 0.9927\n",
            "Epoch 36/50\n",
            "35/35 [==============================] - 0s 2ms/step - loss: 0.0339 - accuracy: 0.9918 - val_loss: 0.0293 - val_accuracy: 0.9927\n",
            "Epoch 37/50\n",
            "35/35 [==============================] - 0s 2ms/step - loss: 0.0330 - accuracy: 0.9918 - val_loss: 0.0284 - val_accuracy: 0.9927\n",
            "Epoch 38/50\n",
            "35/35 [==============================] - 0s 2ms/step - loss: 0.0321 - accuracy: 0.9918 - val_loss: 0.0275 - val_accuracy: 0.9927\n",
            "Epoch 39/50\n",
            "35/35 [==============================] - 0s 2ms/step - loss: 0.0314 - accuracy: 0.9918 - val_loss: 0.0268 - val_accuracy: 0.9927\n",
            "Epoch 40/50\n",
            "35/35 [==============================] - 0s 2ms/step - loss: 0.0305 - accuracy: 0.9918 - val_loss: 0.0259 - val_accuracy: 0.9927\n",
            "Epoch 41/50\n",
            "35/35 [==============================] - 0s 2ms/step - loss: 0.0297 - accuracy: 0.9918 - val_loss: 0.0253 - val_accuracy: 0.9927\n",
            "Epoch 42/50\n",
            "35/35 [==============================] - 0s 2ms/step - loss: 0.0289 - accuracy: 0.9918 - val_loss: 0.0245 - val_accuracy: 0.9927\n",
            "Epoch 43/50\n",
            "35/35 [==============================] - 0s 2ms/step - loss: 0.0283 - accuracy: 0.9918 - val_loss: 0.0238 - val_accuracy: 0.9927\n",
            "Epoch 44/50\n",
            "35/35 [==============================] - 0s 2ms/step - loss: 0.0276 - accuracy: 0.9918 - val_loss: 0.0233 - val_accuracy: 0.9927\n",
            "Epoch 45/50\n",
            "35/35 [==============================] - 0s 2ms/step - loss: 0.0269 - accuracy: 0.9918 - val_loss: 0.0227 - val_accuracy: 0.9927\n",
            "Epoch 46/50\n",
            "35/35 [==============================] - 0s 2ms/step - loss: 0.0264 - accuracy: 0.9918 - val_loss: 0.0221 - val_accuracy: 0.9927\n",
            "Epoch 47/50\n",
            "35/35 [==============================] - 0s 2ms/step - loss: 0.0258 - accuracy: 0.9918 - val_loss: 0.0215 - val_accuracy: 0.9927\n",
            "Epoch 48/50\n",
            "35/35 [==============================] - 0s 3ms/step - loss: 0.0253 - accuracy: 0.9918 - val_loss: 0.0211 - val_accuracy: 0.9927\n",
            "Epoch 49/50\n",
            "35/35 [==============================] - 0s 3ms/step - loss: 0.0250 - accuracy: 0.9954 - val_loss: 0.0204 - val_accuracy: 0.9964\n",
            "Epoch 50/50\n",
            "35/35 [==============================] - 0s 2ms/step - loss: 0.0242 - accuracy: 0.9927 - val_loss: 0.0200 - val_accuracy: 0.9927\n"
          ],
          "name": "stdout"
        }
      ]
    },
    {
      "cell_type": "code",
      "metadata": {
        "id": "HMP56FseB6yS"
      },
      "source": [
        "def loss_plot(hist):\n",
        "  plt.plot(hist.history['loss'],label=['Training_Loss'])\n",
        "  plt.plot(hist.history['val_loss'],label=['Validation_loss'])\n",
        "  plt.title(\"Loss plot\")\n",
        "  plt.xlabel(\"Epochs\")\n",
        "  plt.show()\n",
        "\n",
        "def acc_plot(hist):\n",
        "  plt.plot(hist.history['accuracy'],label=['Training_Loss'])\n",
        "  plt.plot(hist.history['val_accuracy'],label=['Validation_loss'])\n",
        "  plt.title(\"Accuracy plot\")\n",
        "  plt.xlabel(\"Epochs\")\n",
        "  plt.show()"
      ],
      "execution_count": 73,
      "outputs": []
    },
    {
      "cell_type": "code",
      "metadata": {
        "colab": {
          "base_uri": "https://localhost:8080/",
          "height": 573
        },
        "id": "RVBISl8qCRgb",
        "outputId": "bf6eb5a7-0e4e-4429-e0fc-06fee9fdcc66"
      },
      "source": [
        "#Loss and accuracy plot\n",
        "loss_plot(hist_sig)\n",
        "acc_plot(hist_sig)"
      ],
      "execution_count": 74,
      "outputs": [
        {
          "output_type": "display_data",
          "data": {
            "image/png": "[encoded data removed]",
            "text/plain": [
              "<Figure size 432x288 with 1 Axes>"
            ]
          },
          "metadata": {
            "tags": [],
            "needs_background": "light"
          }
        },
        {
          "output_type": "display_data",
          "data": {
            "image/png": "[encoded data removed]",
            "text/plain": [
              "<Figure size 432x288 with 1 Axes>"
            ]
          },
          "metadata": {
            "tags": [],
            "needs_background": "light"
          }
        }
      ]
    },
    {
      "cell_type": "markdown",
      "metadata": {
        "id": "ZI_Z31xZ8z8A"
      },
      "source": [
        "By using the activation function as sigmoid it shows there is no increase in accuracy and validation accuarcy"
      ]
    },
    {
      "cell_type": "markdown",
      "metadata": {
        "id": "wgf4FbNS8z_2"
      },
      "source": [
        "### Relu"
      ]
    },
    {
      "cell_type": "code",
      "metadata": {
        "id": "irFWXYEO80Bv"
      },
      "source": [
        "#initialize the model \n",
        "feat = x.shape[1]\n",
        "r_model = Sequential()\n",
        "r_model.add(Dense(50,activation='relu',input_shape=(feat,)))\n",
        "r_model.add(Dense(1,activation='sigmoid'))\n",
        "r_model.compile(loss='binary_crossentropy',optimizer='adam',metrics=['accuracy'])"
      ],
      "execution_count": 93,
      "outputs": []
    },
    {
      "cell_type": "code",
      "metadata": {
        "colab": {
          "base_uri": "https://localhost:8080/"
        },
        "id": "A__76NTS-juW",
        "outputId": "81a40676-6526-453f-fcdc-46d48993453c"
      },
      "source": [
        "hist_rel = r_model.fit(x_train,y_train,validation_data=(x_val,y_val),epochs=50,batch_size=32,verbose=1)"
      ],
      "execution_count": 94,
      "outputs": [
        {
          "output_type": "stream",
          "text": [
            "Epoch 1/50\n",
            "35/35 [==============================] - 1s 7ms/step - loss: 0.6201 - accuracy: 0.5843 - val_loss: 0.4295 - val_accuracy: 0.7964\n",
            "Epoch 2/50\n",
            "35/35 [==============================] - 0s 2ms/step - loss: 0.3700 - accuracy: 0.8806 - val_loss: 0.2871 - val_accuracy: 0.9455\n",
            "Epoch 3/50\n",
            "35/35 [==============================] - 0s 2ms/step - loss: 0.2517 - accuracy: 0.9663 - val_loss: 0.2056 - val_accuracy: 0.9673\n",
            "Epoch 4/50\n",
            "35/35 [==============================] - 0s 2ms/step - loss: 0.1816 - accuracy: 0.9809 - val_loss: 0.1537 - val_accuracy: 0.9745\n",
            "Epoch 5/50\n",
            "35/35 [==============================] - 0s 2ms/step - loss: 0.1378 - accuracy: 0.9881 - val_loss: 0.1197 - val_accuracy: 0.9818\n",
            "Epoch 6/50\n",
            "35/35 [==============================] - 0s 2ms/step - loss: 0.1081 - accuracy: 0.9927 - val_loss: 0.0977 - val_accuracy: 0.9818\n",
            "Epoch 7/50\n",
            "35/35 [==============================] - 0s 3ms/step - loss: 0.0881 - accuracy: 0.9927 - val_loss: 0.0803 - val_accuracy: 0.9891\n",
            "Epoch 8/50\n",
            "35/35 [==============================] - 0s 2ms/step - loss: 0.0729 - accuracy: 0.9954 - val_loss: 0.0674 - val_accuracy: 0.9855\n",
            "Epoch 9/50\n",
            "35/35 [==============================] - 0s 2ms/step - loss: 0.0619 - accuracy: 0.9973 - val_loss: 0.0573 - val_accuracy: 0.9891\n",
            "Epoch 10/50\n",
            "35/35 [==============================] - 0s 3ms/step - loss: 0.0530 - accuracy: 0.9982 - val_loss: 0.0492 - val_accuracy: 0.9891\n",
            "Epoch 11/50\n",
            "35/35 [==============================] - 0s 2ms/step - loss: 0.0457 - accuracy: 0.9991 - val_loss: 0.0434 - val_accuracy: 0.9891\n",
            "Epoch 12/50\n",
            "35/35 [==============================] - 0s 2ms/step - loss: 0.0402 - accuracy: 0.9991 - val_loss: 0.0379 - val_accuracy: 1.0000\n",
            "Epoch 13/50\n",
            "35/35 [==============================] - 0s 2ms/step - loss: 0.0353 - accuracy: 1.0000 - val_loss: 0.0326 - val_accuracy: 1.0000\n",
            "Epoch 14/50\n",
            "35/35 [==============================] - 0s 2ms/step - loss: 0.0314 - accuracy: 1.0000 - val_loss: 0.0295 - val_accuracy: 1.0000\n",
            "Epoch 15/50\n",
            "35/35 [==============================] - 0s 2ms/step - loss: 0.0282 - accuracy: 1.0000 - val_loss: 0.0264 - val_accuracy: 1.0000\n",
            "Epoch 16/50\n",
            "35/35 [==============================] - 0s 2ms/step - loss: 0.0255 - accuracy: 1.0000 - val_loss: 0.0232 - val_accuracy: 1.0000\n",
            "Epoch 17/50\n",
            "35/35 [==============================] - 0s 2ms/step - loss: 0.0231 - accuracy: 1.0000 - val_loss: 0.0217 - val_accuracy: 1.0000\n",
            "Epoch 18/50\n",
            "35/35 [==============================] - 0s 2ms/step - loss: 0.0212 - accuracy: 1.0000 - val_loss: 0.0191 - val_accuracy: 1.0000\n",
            "Epoch 19/50\n",
            "35/35 [==============================] - 0s 2ms/step - loss: 0.0192 - accuracy: 1.0000 - val_loss: 0.0177 - val_accuracy: 1.0000\n",
            "Epoch 20/50\n",
            "35/35 [==============================] - 0s 2ms/step - loss: 0.0177 - accuracy: 1.0000 - val_loss: 0.0161 - val_accuracy: 1.0000\n",
            "Epoch 21/50\n",
            "35/35 [==============================] - 0s 2ms/step - loss: 0.0163 - accuracy: 1.0000 - val_loss: 0.0146 - val_accuracy: 1.0000\n",
            "Epoch 22/50\n",
            "35/35 [==============================] - 0s 2ms/step - loss: 0.0150 - accuracy: 1.0000 - val_loss: 0.0136 - val_accuracy: 1.0000\n",
            "Epoch 23/50\n",
            "35/35 [==============================] - 0s 2ms/step - loss: 0.0140 - accuracy: 1.0000 - val_loss: 0.0125 - val_accuracy: 1.0000\n",
            "Epoch 24/50\n",
            "35/35 [==============================] - 0s 2ms/step - loss: 0.0130 - accuracy: 1.0000 - val_loss: 0.0117 - val_accuracy: 1.0000\n",
            "Epoch 25/50\n",
            "35/35 [==============================] - 0s 2ms/step - loss: 0.0122 - accuracy: 1.0000 - val_loss: 0.0109 - val_accuracy: 1.0000\n",
            "Epoch 26/50\n",
            "35/35 [==============================] - 0s 2ms/step - loss: 0.0114 - accuracy: 1.0000 - val_loss: 0.0101 - val_accuracy: 1.0000\n",
            "Epoch 27/50\n",
            "35/35 [==============================] - 0s 3ms/step - loss: 0.0107 - accuracy: 1.0000 - val_loss: 0.0094 - val_accuracy: 1.0000\n",
            "Epoch 28/50\n",
            "35/35 [==============================] - 0s 2ms/step - loss: 0.0101 - accuracy: 1.0000 - val_loss: 0.0089 - val_accuracy: 1.0000\n",
            "Epoch 29/50\n",
            "35/35 [==============================] - 0s 2ms/step - loss: 0.0095 - accuracy: 1.0000 - val_loss: 0.0083 - val_accuracy: 1.0000\n",
            "Epoch 30/50\n",
            "35/35 [==============================] - 0s 2ms/step - loss: 0.0089 - accuracy: 1.0000 - val_loss: 0.0079 - val_accuracy: 1.0000\n",
            "Epoch 31/50\n",
            "35/35 [==============================] - 0s 2ms/step - loss: 0.0084 - accuracy: 1.0000 - val_loss: 0.0073 - val_accuracy: 1.0000\n",
            "Epoch 32/50\n",
            "35/35 [==============================] - 0s 2ms/step - loss: 0.0080 - accuracy: 1.0000 - val_loss: 0.0070 - val_accuracy: 1.0000\n",
            "Epoch 33/50\n",
            "35/35 [==============================] - 0s 2ms/step - loss: 0.0075 - accuracy: 1.0000 - val_loss: 0.0064 - val_accuracy: 1.0000\n",
            "Epoch 34/50\n",
            "35/35 [==============================] - 0s 2ms/step - loss: 0.0071 - accuracy: 1.0000 - val_loss: 0.0062 - val_accuracy: 1.0000\n",
            "Epoch 35/50\n",
            "35/35 [==============================] - 0s 2ms/step - loss: 0.0068 - accuracy: 1.0000 - val_loss: 0.0059 - val_accuracy: 1.0000\n",
            "Epoch 36/50\n",
            "35/35 [==============================] - 0s 2ms/step - loss: 0.0065 - accuracy: 1.0000 - val_loss: 0.0055 - val_accuracy: 1.0000\n",
            "Epoch 37/50\n",
            "35/35 [==============================] - 0s 2ms/step - loss: 0.0061 - accuracy: 1.0000 - val_loss: 0.0052 - val_accuracy: 1.0000\n",
            "Epoch 38/50\n",
            "35/35 [==============================] - 0s 2ms/step - loss: 0.0058 - accuracy: 1.0000 - val_loss: 0.0050 - val_accuracy: 1.0000\n",
            "Epoch 39/50\n",
            "35/35 [==============================] - 0s 2ms/step - loss: 0.0056 - accuracy: 1.0000 - val_loss: 0.0047 - val_accuracy: 1.0000\n",
            "Epoch 40/50\n",
            "35/35 [==============================] - 0s 2ms/step - loss: 0.0053 - accuracy: 1.0000 - val_loss: 0.0045 - val_accuracy: 1.0000\n",
            "Epoch 41/50\n",
            "35/35 [==============================] - 0s 2ms/step - loss: 0.0051 - accuracy: 1.0000 - val_loss: 0.0042 - val_accuracy: 1.0000\n",
            "Epoch 42/50\n",
            "35/35 [==============================] - 0s 2ms/step - loss: 0.0049 - accuracy: 1.0000 - val_loss: 0.0042 - val_accuracy: 1.0000\n",
            "Epoch 43/50\n",
            "35/35 [==============================] - 0s 2ms/step - loss: 0.0047 - accuracy: 1.0000 - val_loss: 0.0039 - val_accuracy: 1.0000\n",
            "Epoch 44/50\n",
            "35/35 [==============================] - 0s 3ms/step - loss: 0.0044 - accuracy: 1.0000 - val_loss: 0.0037 - val_accuracy: 1.0000\n",
            "Epoch 45/50\n",
            "35/35 [==============================] - 0s 2ms/step - loss: 0.0043 - accuracy: 1.0000 - val_loss: 0.0036 - val_accuracy: 1.0000\n",
            "Epoch 46/50\n",
            "35/35 [==============================] - 0s 2ms/step - loss: 0.0041 - accuracy: 1.0000 - val_loss: 0.0034 - val_accuracy: 1.0000\n",
            "Epoch 47/50\n",
            "35/35 [==============================] - 0s 3ms/step - loss: 0.0039 - accuracy: 1.0000 - val_loss: 0.0034 - val_accuracy: 1.0000\n",
            "Epoch 48/50\n",
            "35/35 [==============================] - 0s 2ms/step - loss: 0.0038 - accuracy: 1.0000 - val_loss: 0.0031 - val_accuracy: 1.0000\n",
            "Epoch 49/50\n",
            "35/35 [==============================] - 0s 3ms/step - loss: 0.0036 - accuracy: 1.0000 - val_loss: 0.0031 - val_accuracy: 1.0000\n",
            "Epoch 50/50\n",
            "35/35 [==============================] - 0s 2ms/step - loss: 0.0035 - accuracy: 1.0000 - val_loss: 0.0028 - val_accuracy: 1.0000\n"
          ],
          "name": "stdout"
        }
      ]
    },
    {
      "cell_type": "code",
      "metadata": {
        "colab": {
          "base_uri": "https://localhost:8080/",
          "height": 573
        },
        "id": "6wE4431sCf-d",
        "outputId": "37ac6a19-ecbe-4e5c-869d-cc805013bbb2"
      },
      "source": [
        "#Loss and accuracy plot\n",
        "loss_plot(hist_rel)\n",
        "acc_plot(hist_rel)"
      ],
      "execution_count": 95,
      "outputs": [
        {
          "output_type": "display_data",
          "data": {
            "image/png": "[encoded data removed]",
            "text/plain": [
              "<Figure size 432x288 with 1 Axes>"
            ]
          },
          "metadata": {
            "tags": [],
            "needs_background": "light"
          }
        },
        {
          "output_type": "display_data",
          "data": {
            "image/png": "[encoded data removed]",
            "text/plain": [
              "<Figure size 432x288 with 1 Axes>"
            ]
          },
          "metadata": {
            "tags": [],
            "needs_background": "light"
          }
        }
      ]
    },
    {
      "cell_type": "markdown",
      "metadata": {
        "id": "t6IhiUQL80DX"
      },
      "source": [
        "### LeakyRelu"
      ]
    },
    {
      "cell_type": "code",
      "metadata": {
        "id": "Qbs8BWTF80Fm"
      },
      "source": [
        "#initialize the model \n",
        "feat = x.shape[1]\n",
        "l_model = Sequential()\n",
        "l_model.add(Dense(10,activation=LeakyReLU(alpha=0.01),input_shape=(feat,)))\n",
        "l_model.add(Dense(1,activation='sigmoid'))\n",
        "l_model.compile(loss='binary_crossentropy',optimizer='adam',metrics=['accuracy'])"
      ],
      "execution_count": 108,
      "outputs": []
    },
    {
      "cell_type": "code",
      "metadata": {
        "colab": {
          "base_uri": "https://localhost:8080/"
        },
        "id": "cybGKNq1_UPt",
        "outputId": "93a0c190-bb2b-4f7d-a7ac-f8b96262f88c"
      },
      "source": [
        "hist_lrel = l_model.fit(x_train,y_train,validation_data=(x_val,y_val),epochs=50,batch_size=32,verbose=1)"
      ],
      "execution_count": 109,
      "outputs": [
        {
          "output_type": "stream",
          "text": [
            "Epoch 1/50\n",
            "35/35 [==============================] - 1s 6ms/step - loss: 0.7897 - accuracy: 0.6427 - val_loss: 0.7202 - val_accuracy: 0.6691\n",
            "Epoch 2/50\n",
            "35/35 [==============================] - 0s 3ms/step - loss: 0.6344 - accuracy: 0.7375 - val_loss: 0.5765 - val_accuracy: 0.7564\n",
            "Epoch 3/50\n",
            "35/35 [==============================] - 0s 3ms/step - loss: 0.5124 - accuracy: 0.8195 - val_loss: 0.4612 - val_accuracy: 0.8073\n",
            "Epoch 4/50\n",
            "35/35 [==============================] - 0s 2ms/step - loss: 0.4152 - accuracy: 0.8423 - val_loss: 0.3722 - val_accuracy: 0.8545\n",
            "Epoch 5/50\n",
            "35/35 [==============================] - 0s 2ms/step - loss: 0.3407 - accuracy: 0.8906 - val_loss: 0.3038 - val_accuracy: 0.9309\n",
            "Epoch 6/50\n",
            "35/35 [==============================] - 0s 2ms/step - loss: 0.2814 - accuracy: 0.9699 - val_loss: 0.2500 - val_accuracy: 0.9745\n",
            "Epoch 7/50\n",
            "35/35 [==============================] - 0s 2ms/step - loss: 0.2292 - accuracy: 0.9799 - val_loss: 0.1982 - val_accuracy: 0.9782\n",
            "Epoch 8/50\n",
            "35/35 [==============================] - 0s 2ms/step - loss: 0.1858 - accuracy: 0.9845 - val_loss: 0.1629 - val_accuracy: 0.9891\n",
            "Epoch 9/50\n",
            "35/35 [==============================] - 0s 2ms/step - loss: 0.1561 - accuracy: 0.9872 - val_loss: 0.1383 - val_accuracy: 0.9782\n",
            "Epoch 10/50\n",
            "35/35 [==============================] - 0s 2ms/step - loss: 0.1344 - accuracy: 0.9872 - val_loss: 0.1197 - val_accuracy: 0.9782\n",
            "Epoch 11/50\n",
            "35/35 [==============================] - 0s 2ms/step - loss: 0.1173 - accuracy: 0.9909 - val_loss: 0.1055 - val_accuracy: 0.9818\n",
            "Epoch 12/50\n",
            "35/35 [==============================] - 0s 2ms/step - loss: 0.1035 - accuracy: 0.9927 - val_loss: 0.0933 - val_accuracy: 0.9927\n",
            "Epoch 13/50\n",
            "35/35 [==============================] - 0s 2ms/step - loss: 0.0921 - accuracy: 0.9945 - val_loss: 0.0834 - val_accuracy: 0.9927\n",
            "Epoch 14/50\n",
            "35/35 [==============================] - 0s 2ms/step - loss: 0.0827 - accuracy: 0.9945 - val_loss: 0.0755 - val_accuracy: 0.9927\n",
            "Epoch 15/50\n",
            "35/35 [==============================] - 0s 3ms/step - loss: 0.0748 - accuracy: 0.9927 - val_loss: 0.0685 - val_accuracy: 0.9927\n",
            "Epoch 16/50\n",
            "35/35 [==============================] - 0s 2ms/step - loss: 0.0680 - accuracy: 0.9964 - val_loss: 0.0625 - val_accuracy: 0.9964\n",
            "Epoch 17/50\n",
            "35/35 [==============================] - 0s 2ms/step - loss: 0.0622 - accuracy: 0.9982 - val_loss: 0.0575 - val_accuracy: 0.9964\n",
            "Epoch 18/50\n",
            "35/35 [==============================] - 0s 2ms/step - loss: 0.0572 - accuracy: 0.9982 - val_loss: 0.0526 - val_accuracy: 1.0000\n",
            "Epoch 19/50\n",
            "35/35 [==============================] - 0s 2ms/step - loss: 0.0527 - accuracy: 0.9982 - val_loss: 0.0484 - val_accuracy: 1.0000\n",
            "Epoch 20/50\n",
            "35/35 [==============================] - 0s 3ms/step - loss: 0.0489 - accuracy: 0.9991 - val_loss: 0.0449 - val_accuracy: 1.0000\n",
            "Epoch 21/50\n",
            "35/35 [==============================] - 0s 2ms/step - loss: 0.0455 - accuracy: 1.0000 - val_loss: 0.0416 - val_accuracy: 1.0000\n",
            "Epoch 22/50\n",
            "35/35 [==============================] - 0s 2ms/step - loss: 0.0425 - accuracy: 1.0000 - val_loss: 0.0389 - val_accuracy: 1.0000\n",
            "Epoch 23/50\n",
            "35/35 [==============================] - 0s 2ms/step - loss: 0.0398 - accuracy: 1.0000 - val_loss: 0.0363 - val_accuracy: 1.0000\n",
            "Epoch 24/50\n",
            "35/35 [==============================] - 0s 2ms/step - loss: 0.0375 - accuracy: 1.0000 - val_loss: 0.0340 - val_accuracy: 1.0000\n",
            "Epoch 25/50\n",
            "35/35 [==============================] - 0s 2ms/step - loss: 0.0352 - accuracy: 1.0000 - val_loss: 0.0321 - val_accuracy: 1.0000\n",
            "Epoch 26/50\n",
            "35/35 [==============================] - 0s 2ms/step - loss: 0.0333 - accuracy: 1.0000 - val_loss: 0.0301 - val_accuracy: 1.0000\n",
            "Epoch 27/50\n",
            "35/35 [==============================] - 0s 2ms/step - loss: 0.0315 - accuracy: 1.0000 - val_loss: 0.0285 - val_accuracy: 1.0000\n",
            "Epoch 28/50\n",
            "35/35 [==============================] - 0s 2ms/step - loss: 0.0298 - accuracy: 1.0000 - val_loss: 0.0269 - val_accuracy: 1.0000\n",
            "Epoch 29/50\n",
            "35/35 [==============================] - 0s 2ms/step - loss: 0.0283 - accuracy: 1.0000 - val_loss: 0.0254 - val_accuracy: 1.0000\n",
            "Epoch 30/50\n",
            "35/35 [==============================] - 0s 3ms/step - loss: 0.0269 - accuracy: 1.0000 - val_loss: 0.0242 - val_accuracy: 1.0000\n",
            "Epoch 31/50\n",
            "35/35 [==============================] - 0s 3ms/step - loss: 0.0256 - accuracy: 1.0000 - val_loss: 0.0227 - val_accuracy: 1.0000\n",
            "Epoch 32/50\n",
            "35/35 [==============================] - 0s 2ms/step - loss: 0.0244 - accuracy: 1.0000 - val_loss: 0.0218 - val_accuracy: 1.0000\n",
            "Epoch 33/50\n",
            "35/35 [==============================] - 0s 2ms/step - loss: 0.0233 - accuracy: 1.0000 - val_loss: 0.0208 - val_accuracy: 1.0000\n",
            "Epoch 34/50\n",
            "35/35 [==============================] - 0s 2ms/step - loss: 0.0223 - accuracy: 1.0000 - val_loss: 0.0199 - val_accuracy: 1.0000\n",
            "Epoch 35/50\n",
            "35/35 [==============================] - 0s 2ms/step - loss: 0.0213 - accuracy: 1.0000 - val_loss: 0.0188 - val_accuracy: 1.0000\n",
            "Epoch 36/50\n",
            "35/35 [==============================] - 0s 2ms/step - loss: 0.0204 - accuracy: 1.0000 - val_loss: 0.0181 - val_accuracy: 1.0000\n",
            "Epoch 37/50\n",
            "35/35 [==============================] - 0s 3ms/step - loss: 0.0195 - accuracy: 1.0000 - val_loss: 0.0171 - val_accuracy: 1.0000\n",
            "Epoch 38/50\n",
            "35/35 [==============================] - 0s 3ms/step - loss: 0.0187 - accuracy: 1.0000 - val_loss: 0.0165 - val_accuracy: 1.0000\n",
            "Epoch 39/50\n",
            "35/35 [==============================] - 0s 2ms/step - loss: 0.0180 - accuracy: 1.0000 - val_loss: 0.0157 - val_accuracy: 1.0000\n",
            "Epoch 40/50\n",
            "35/35 [==============================] - 0s 3ms/step - loss: 0.0173 - accuracy: 1.0000 - val_loss: 0.0154 - val_accuracy: 1.0000\n",
            "Epoch 41/50\n",
            "35/35 [==============================] - 0s 2ms/step - loss: 0.0166 - accuracy: 1.0000 - val_loss: 0.0145 - val_accuracy: 1.0000\n",
            "Epoch 42/50\n",
            "35/35 [==============================] - 0s 2ms/step - loss: 0.0159 - accuracy: 1.0000 - val_loss: 0.0139 - val_accuracy: 1.0000\n",
            "Epoch 43/50\n",
            "35/35 [==============================] - 0s 2ms/step - loss: 0.0154 - accuracy: 1.0000 - val_loss: 0.0134 - val_accuracy: 1.0000\n",
            "Epoch 44/50\n",
            "35/35 [==============================] - 0s 2ms/step - loss: 0.0148 - accuracy: 1.0000 - val_loss: 0.0129 - val_accuracy: 1.0000\n",
            "Epoch 45/50\n",
            "35/35 [==============================] - 0s 2ms/step - loss: 0.0143 - accuracy: 1.0000 - val_loss: 0.0125 - val_accuracy: 1.0000\n",
            "Epoch 46/50\n",
            "35/35 [==============================] - 0s 3ms/step - loss: 0.0138 - accuracy: 1.0000 - val_loss: 0.0120 - val_accuracy: 1.0000\n",
            "Epoch 47/50\n",
            "35/35 [==============================] - 0s 2ms/step - loss: 0.0133 - accuracy: 1.0000 - val_loss: 0.0116 - val_accuracy: 1.0000\n",
            "Epoch 48/50\n",
            "35/35 [==============================] - 0s 3ms/step - loss: 0.0128 - accuracy: 1.0000 - val_loss: 0.0112 - val_accuracy: 1.0000\n",
            "Epoch 49/50\n",
            "35/35 [==============================] - 0s 3ms/step - loss: 0.0125 - accuracy: 1.0000 - val_loss: 0.0108 - val_accuracy: 1.0000\n",
            "Epoch 50/50\n",
            "35/35 [==============================] - 0s 3ms/step - loss: 0.0120 - accuracy: 1.0000 - val_loss: 0.0104 - val_accuracy: 1.0000\n"
          ],
          "name": "stdout"
        }
      ]
    },
    {
      "cell_type": "code",
      "metadata": {
        "colab": {
          "base_uri": "https://localhost:8080/",
          "height": 573
        },
        "id": "yegfTtlwCkD8",
        "outputId": "b6efd53c-e507-4f44-9cc8-6d73cc61d903"
      },
      "source": [
        "#Loss and accuracy plot\n",
        "loss_plot(hist_lrel)\n",
        "acc_plot(hist_lrel)"
      ],
      "execution_count": 110,
      "outputs": [
        {
          "output_type": "display_data",
          "data": {
            "image/png": "[encoded data removed]",
            "text/plain": [
              "<Figure size 432x288 with 1 Axes>"
            ]
          },
          "metadata": {
            "tags": [],
            "needs_background": "light"
          }
        },
        {
          "output_type": "display_data",
          "data": {
            "image/png": "[encoded data removed]",
            "text/plain": [
              "<Figure size 432x288 with 1 Axes>"
            ]
          },
          "metadata": {
            "tags": [],
            "needs_background": "light"
          }
        }
      ]
    },
    {
      "cell_type": "markdown",
      "metadata": {
        "id": "gphWZbOE_iME"
      },
      "source": [
        "### Swish"
      ]
    },
    {
      "cell_type": "code",
      "metadata": {
        "id": "o0D4BExf_iWh"
      },
      "source": [
        "#initialize the model \n",
        "feat = x.shape[1]\n",
        "swish_model = Sequential()\n",
        "swish_model.add(Dense(50,activation='swish',input_shape=(feat,)))\n",
        "swish_model.add(Dense(1,activation='sigmoid'))\n",
        "swish_model.compile(loss='binary_crossentropy',optimizer='adam',metrics=['accuracy'])"
      ],
      "execution_count": 83,
      "outputs": []
    },
    {
      "cell_type": "code",
      "metadata": {
        "colab": {
          "base_uri": "https://localhost:8080/"
        },
        "id": "BGP8Q-bq_iZW",
        "outputId": "855a4327-735f-488c-df68-dc01812f0e85"
      },
      "source": [
        "hist_swish = swish_model.fit(x_train,y_train,validation_data=(x_val,y_val),epochs=50,batch_size=32,verbose=1)"
      ],
      "execution_count": 84,
      "outputs": [
        {
          "output_type": "stream",
          "text": [
            "Epoch 1/50\n",
            "35/35 [==============================] - 1s 15ms/step - loss: 0.8978 - accuracy: 0.3674 - val_loss: 0.6152 - val_accuracy: 0.6800\n",
            "Epoch 2/50\n",
            "35/35 [==============================] - 0s 2ms/step - loss: 0.4960 - accuracy: 0.8159 - val_loss: 0.3673 - val_accuracy: 0.9564\n",
            "Epoch 3/50\n",
            "35/35 [==============================] - 0s 2ms/step - loss: 0.3121 - accuracy: 0.9480 - val_loss: 0.2474 - val_accuracy: 0.9855\n",
            "Epoch 4/50\n",
            "35/35 [==============================] - 0s 2ms/step - loss: 0.2158 - accuracy: 0.9809 - val_loss: 0.1789 - val_accuracy: 0.9855\n",
            "Epoch 5/50\n",
            "35/35 [==============================] - 0s 2ms/step - loss: 0.1594 - accuracy: 0.9845 - val_loss: 0.1378 - val_accuracy: 0.9782\n",
            "Epoch 6/50\n",
            "35/35 [==============================] - 0s 2ms/step - loss: 0.1240 - accuracy: 0.9854 - val_loss: 0.1100 - val_accuracy: 0.9782\n",
            "Epoch 7/50\n",
            "35/35 [==============================] - 0s 2ms/step - loss: 0.1002 - accuracy: 0.9872 - val_loss: 0.0903 - val_accuracy: 0.9818\n",
            "Epoch 8/50\n",
            "35/35 [==============================] - 0s 2ms/step - loss: 0.0826 - accuracy: 0.9945 - val_loss: 0.0758 - val_accuracy: 0.9964\n",
            "Epoch 9/50\n",
            "35/35 [==============================] - 0s 2ms/step - loss: 0.0696 - accuracy: 0.9945 - val_loss: 0.0650 - val_accuracy: 0.9964\n",
            "Epoch 10/50\n",
            "35/35 [==============================] - 0s 2ms/step - loss: 0.0597 - accuracy: 0.9973 - val_loss: 0.0558 - val_accuracy: 1.0000\n",
            "Epoch 11/50\n",
            "35/35 [==============================] - 0s 3ms/step - loss: 0.0518 - accuracy: 0.9973 - val_loss: 0.0484 - val_accuracy: 1.0000\n",
            "Epoch 12/50\n",
            "35/35 [==============================] - 0s 2ms/step - loss: 0.0454 - accuracy: 1.0000 - val_loss: 0.0426 - val_accuracy: 1.0000\n",
            "Epoch 13/50\n",
            "35/35 [==============================] - 0s 2ms/step - loss: 0.0402 - accuracy: 1.0000 - val_loss: 0.0373 - val_accuracy: 1.0000\n",
            "Epoch 14/50\n",
            "35/35 [==============================] - 0s 2ms/step - loss: 0.0358 - accuracy: 1.0000 - val_loss: 0.0338 - val_accuracy: 1.0000\n",
            "Epoch 15/50\n",
            "35/35 [==============================] - 0s 2ms/step - loss: 0.0321 - accuracy: 1.0000 - val_loss: 0.0296 - val_accuracy: 1.0000\n",
            "Epoch 16/50\n",
            "35/35 [==============================] - 0s 2ms/step - loss: 0.0290 - accuracy: 1.0000 - val_loss: 0.0267 - val_accuracy: 1.0000\n",
            "Epoch 17/50\n",
            "35/35 [==============================] - 0s 2ms/step - loss: 0.0263 - accuracy: 1.0000 - val_loss: 0.0244 - val_accuracy: 1.0000\n",
            "Epoch 18/50\n",
            "35/35 [==============================] - 0s 2ms/step - loss: 0.0240 - accuracy: 1.0000 - val_loss: 0.0220 - val_accuracy: 1.0000\n",
            "Epoch 19/50\n",
            "35/35 [==============================] - 0s 3ms/step - loss: 0.0220 - accuracy: 1.0000 - val_loss: 0.0200 - val_accuracy: 1.0000\n",
            "Epoch 20/50\n",
            "35/35 [==============================] - 0s 2ms/step - loss: 0.0202 - accuracy: 1.0000 - val_loss: 0.0181 - val_accuracy: 1.0000\n",
            "Epoch 21/50\n",
            "35/35 [==============================] - 0s 2ms/step - loss: 0.0186 - accuracy: 1.0000 - val_loss: 0.0166 - val_accuracy: 1.0000\n",
            "Epoch 22/50\n",
            "35/35 [==============================] - 0s 3ms/step - loss: 0.0173 - accuracy: 1.0000 - val_loss: 0.0152 - val_accuracy: 1.0000\n",
            "Epoch 23/50\n",
            "35/35 [==============================] - 0s 2ms/step - loss: 0.0160 - accuracy: 1.0000 - val_loss: 0.0142 - val_accuracy: 1.0000\n",
            "Epoch 24/50\n",
            "35/35 [==============================] - 0s 2ms/step - loss: 0.0150 - accuracy: 1.0000 - val_loss: 0.0128 - val_accuracy: 1.0000\n",
            "Epoch 25/50\n",
            "35/35 [==============================] - 0s 2ms/step - loss: 0.0140 - accuracy: 1.0000 - val_loss: 0.0120 - val_accuracy: 1.0000\n",
            "Epoch 26/50\n",
            "35/35 [==============================] - 0s 3ms/step - loss: 0.0131 - accuracy: 1.0000 - val_loss: 0.0111 - val_accuracy: 1.0000\n",
            "Epoch 27/50\n",
            "35/35 [==============================] - 0s 2ms/step - loss: 0.0122 - accuracy: 1.0000 - val_loss: 0.0104 - val_accuracy: 1.0000\n",
            "Epoch 28/50\n",
            "35/35 [==============================] - 0s 2ms/step - loss: 0.0115 - accuracy: 1.0000 - val_loss: 0.0096 - val_accuracy: 1.0000\n",
            "Epoch 29/50\n",
            "35/35 [==============================] - 0s 3ms/step - loss: 0.0108 - accuracy: 1.0000 - val_loss: 0.0091 - val_accuracy: 1.0000\n",
            "Epoch 30/50\n",
            "35/35 [==============================] - 0s 2ms/step - loss: 0.0102 - accuracy: 1.0000 - val_loss: 0.0085 - val_accuracy: 1.0000\n",
            "Epoch 31/50\n",
            "35/35 [==============================] - 0s 2ms/step - loss: 0.0097 - accuracy: 1.0000 - val_loss: 0.0080 - val_accuracy: 1.0000\n",
            "Epoch 32/50\n",
            "35/35 [==============================] - 0s 2ms/step - loss: 0.0092 - accuracy: 1.0000 - val_loss: 0.0077 - val_accuracy: 1.0000\n",
            "Epoch 33/50\n",
            "35/35 [==============================] - 0s 2ms/step - loss: 0.0087 - accuracy: 1.0000 - val_loss: 0.0070 - val_accuracy: 1.0000\n",
            "Epoch 34/50\n",
            "35/35 [==============================] - 0s 2ms/step - loss: 0.0082 - accuracy: 1.0000 - val_loss: 0.0067 - val_accuracy: 1.0000\n",
            "Epoch 35/50\n",
            "35/35 [==============================] - 0s 2ms/step - loss: 0.0078 - accuracy: 1.0000 - val_loss: 0.0063 - val_accuracy: 1.0000\n",
            "Epoch 36/50\n",
            "35/35 [==============================] - 0s 2ms/step - loss: 0.0075 - accuracy: 1.0000 - val_loss: 0.0060 - val_accuracy: 1.0000\n",
            "Epoch 37/50\n",
            "35/35 [==============================] - 0s 2ms/step - loss: 0.0072 - accuracy: 1.0000 - val_loss: 0.0058 - val_accuracy: 1.0000\n",
            "Epoch 38/50\n",
            "35/35 [==============================] - 0s 2ms/step - loss: 0.0068 - accuracy: 1.0000 - val_loss: 0.0053 - val_accuracy: 1.0000\n",
            "Epoch 39/50\n",
            "35/35 [==============================] - 0s 2ms/step - loss: 0.0065 - accuracy: 1.0000 - val_loss: 0.0051 - val_accuracy: 1.0000\n",
            "Epoch 40/50\n",
            "35/35 [==============================] - 0s 3ms/step - loss: 0.0062 - accuracy: 1.0000 - val_loss: 0.0049 - val_accuracy: 1.0000\n",
            "Epoch 41/50\n",
            "35/35 [==============================] - 0s 2ms/step - loss: 0.0059 - accuracy: 1.0000 - val_loss: 0.0047 - val_accuracy: 1.0000\n",
            "Epoch 42/50\n",
            "35/35 [==============================] - 0s 2ms/step - loss: 0.0057 - accuracy: 1.0000 - val_loss: 0.0044 - val_accuracy: 1.0000\n",
            "Epoch 43/50\n",
            "35/35 [==============================] - 0s 2ms/step - loss: 0.0054 - accuracy: 1.0000 - val_loss: 0.0042 - val_accuracy: 1.0000\n",
            "Epoch 44/50\n",
            "35/35 [==============================] - 0s 2ms/step - loss: 0.0052 - accuracy: 1.0000 - val_loss: 0.0040 - val_accuracy: 1.0000\n",
            "Epoch 45/50\n",
            "35/35 [==============================] - 0s 2ms/step - loss: 0.0050 - accuracy: 1.0000 - val_loss: 0.0038 - val_accuracy: 1.0000\n",
            "Epoch 46/50\n",
            "35/35 [==============================] - 0s 3ms/step - loss: 0.0048 - accuracy: 1.0000 - val_loss: 0.0037 - val_accuracy: 1.0000\n",
            "Epoch 47/50\n",
            "35/35 [==============================] - 0s 2ms/step - loss: 0.0046 - accuracy: 1.0000 - val_loss: 0.0035 - val_accuracy: 1.0000\n",
            "Epoch 48/50\n",
            "35/35 [==============================] - 0s 2ms/step - loss: 0.0044 - accuracy: 1.0000 - val_loss: 0.0034 - val_accuracy: 1.0000\n",
            "Epoch 49/50\n",
            "35/35 [==============================] - 0s 2ms/step - loss: 0.0043 - accuracy: 1.0000 - val_loss: 0.0032 - val_accuracy: 1.0000\n",
            "Epoch 50/50\n",
            "35/35 [==============================] - 0s 2ms/step - loss: 0.0041 - accuracy: 1.0000 - val_loss: 0.0031 - val_accuracy: 1.0000\n"
          ],
          "name": "stdout"
        }
      ]
    },
    {
      "cell_type": "code",
      "metadata": {
        "colab": {
          "base_uri": "https://localhost:8080/",
          "height": 573
        },
        "id": "QJ1yA2BzCp18",
        "outputId": "e87ba9cf-48d8-4143-845c-d605698316c7"
      },
      "source": [
        "#Loss and accuracy plot\n",
        "loss_plot(hist_swish)\n",
        "acc_plot(hist_swish)"
      ],
      "execution_count": 82,
      "outputs": [
        {
          "output_type": "display_data",
          "data": {
            "image/png": "[encoded data removed]",
            "text/plain": [
              "<Figure size 432x288 with 1 Axes>"
            ]
          },
          "metadata": {
            "tags": [],
            "needs_background": "light"
          }
        },
        {
          "output_type": "display_data",
          "data": {
            "image/png": "[encoded data removed]",
            "text/plain": [
              "<Figure size 432x288 with 1 Axes>"
            ]
          },
          "metadata": {
            "tags": [],
            "needs_background": "light"
          }
        }
      ]
    },
    {
      "cell_type": "markdown",
      "metadata": {
        "id": "PXKMN30D_ilv"
      },
      "source": [
        "### ELU"
      ]
    },
    {
      "cell_type": "code",
      "metadata": {
        "id": "5XjHLlp5_ioQ"
      },
      "source": [
        "#initialize the model \n",
        "feat = x.shape[1]\n",
        "elu_model = Sequential()\n",
        "elu_model.add(Dense(50,activation=ELU(),input_shape=(feat,)))\n",
        "elu_model.add(Dense(1,activation='sigmoid'))\n",
        "elu_model.compile(loss='binary_crossentropy',optimizer='adam',metrics=['accuracy'])"
      ],
      "execution_count": 87,
      "outputs": []
    },
    {
      "cell_type": "code",
      "metadata": {
        "colab": {
          "base_uri": "https://localhost:8080/"
        },
        "id": "xCKR4GWe_iqu",
        "outputId": "5040a9df-cfeb-4de6-94e0-978002c7e9be"
      },
      "source": [
        "hist_elu = elu_model.fit(x_train,y_train,validation_data=(x_val,y_val),epochs=50,batch_size=32,verbose=1)"
      ],
      "execution_count": 88,
      "outputs": [
        {
          "output_type": "stream",
          "text": [
            "Epoch 1/50\n",
            "35/35 [==============================] - 1s 6ms/step - loss: 0.5351 - accuracy: 0.7803 - val_loss: 0.3488 - val_accuracy: 0.8945\n",
            "Epoch 2/50\n",
            "35/35 [==============================] - 0s 2ms/step - loss: 0.3016 - accuracy: 0.9234 - val_loss: 0.2362 - val_accuracy: 0.9491\n",
            "Epoch 3/50\n",
            "35/35 [==============================] - 0s 2ms/step - loss: 0.2076 - accuracy: 0.9626 - val_loss: 0.1712 - val_accuracy: 0.9600\n",
            "Epoch 4/50\n",
            "35/35 [==============================] - 0s 2ms/step - loss: 0.1553 - accuracy: 0.9745 - val_loss: 0.1326 - val_accuracy: 0.9636\n",
            "Epoch 5/50\n",
            "35/35 [==============================] - 0s 2ms/step - loss: 0.1207 - accuracy: 0.9763 - val_loss: 0.1073 - val_accuracy: 0.9745\n",
            "Epoch 6/50\n",
            "35/35 [==============================] - 0s 2ms/step - loss: 0.0977 - accuracy: 0.9863 - val_loss: 0.0882 - val_accuracy: 0.9818\n",
            "Epoch 7/50\n",
            "35/35 [==============================] - 0s 3ms/step - loss: 0.0807 - accuracy: 0.9918 - val_loss: 0.0744 - val_accuracy: 0.9818\n",
            "Epoch 8/50\n",
            "35/35 [==============================] - 0s 3ms/step - loss: 0.0682 - accuracy: 0.9918 - val_loss: 0.0633 - val_accuracy: 0.9818\n",
            "Epoch 9/50\n",
            "35/35 [==============================] - 0s 3ms/step - loss: 0.0585 - accuracy: 0.9936 - val_loss: 0.0546 - val_accuracy: 0.9964\n",
            "Epoch 10/50\n",
            "35/35 [==============================] - 0s 2ms/step - loss: 0.0509 - accuracy: 0.9936 - val_loss: 0.0474 - val_accuracy: 1.0000\n",
            "Epoch 11/50\n",
            "35/35 [==============================] - 0s 2ms/step - loss: 0.0450 - accuracy: 0.9973 - val_loss: 0.0422 - val_accuracy: 1.0000\n",
            "Epoch 12/50\n",
            "35/35 [==============================] - 0s 3ms/step - loss: 0.0400 - accuracy: 0.9973 - val_loss: 0.0376 - val_accuracy: 1.0000\n",
            "Epoch 13/50\n",
            "35/35 [==============================] - 0s 2ms/step - loss: 0.0361 - accuracy: 1.0000 - val_loss: 0.0335 - val_accuracy: 1.0000\n",
            "Epoch 14/50\n",
            "35/35 [==============================] - 0s 2ms/step - loss: 0.0326 - accuracy: 0.9973 - val_loss: 0.0302 - val_accuracy: 1.0000\n",
            "Epoch 15/50\n",
            "35/35 [==============================] - 0s 2ms/step - loss: 0.0296 - accuracy: 1.0000 - val_loss: 0.0272 - val_accuracy: 1.0000\n",
            "Epoch 16/50\n",
            "35/35 [==============================] - 0s 2ms/step - loss: 0.0272 - accuracy: 1.0000 - val_loss: 0.0254 - val_accuracy: 1.0000\n",
            "Epoch 17/50\n",
            "35/35 [==============================] - 0s 2ms/step - loss: 0.0252 - accuracy: 1.0000 - val_loss: 0.0230 - val_accuracy: 1.0000\n",
            "Epoch 18/50\n",
            "35/35 [==============================] - 0s 2ms/step - loss: 0.0233 - accuracy: 1.0000 - val_loss: 0.0213 - val_accuracy: 1.0000\n",
            "Epoch 19/50\n",
            "35/35 [==============================] - 0s 2ms/step - loss: 0.0219 - accuracy: 1.0000 - val_loss: 0.0195 - val_accuracy: 1.0000\n",
            "Epoch 20/50\n",
            "35/35 [==============================] - 0s 2ms/step - loss: 0.0202 - accuracy: 1.0000 - val_loss: 0.0176 - val_accuracy: 1.0000\n",
            "Epoch 21/50\n",
            "35/35 [==============================] - 0s 2ms/step - loss: 0.0188 - accuracy: 1.0000 - val_loss: 0.0165 - val_accuracy: 1.0000\n",
            "Epoch 22/50\n",
            "35/35 [==============================] - 0s 2ms/step - loss: 0.0177 - accuracy: 1.0000 - val_loss: 0.0154 - val_accuracy: 1.0000\n",
            "Epoch 23/50\n",
            "35/35 [==============================] - 0s 3ms/step - loss: 0.0167 - accuracy: 1.0000 - val_loss: 0.0143 - val_accuracy: 1.0000\n",
            "Epoch 24/50\n",
            "35/35 [==============================] - 0s 2ms/step - loss: 0.0158 - accuracy: 1.0000 - val_loss: 0.0135 - val_accuracy: 1.0000\n",
            "Epoch 25/50\n",
            "35/35 [==============================] - 0s 2ms/step - loss: 0.0149 - accuracy: 1.0000 - val_loss: 0.0127 - val_accuracy: 1.0000\n",
            "Epoch 26/50\n",
            "35/35 [==============================] - 0s 2ms/step - loss: 0.0142 - accuracy: 1.0000 - val_loss: 0.0118 - val_accuracy: 1.0000\n",
            "Epoch 27/50\n",
            "35/35 [==============================] - 0s 2ms/step - loss: 0.0134 - accuracy: 1.0000 - val_loss: 0.0112 - val_accuracy: 1.0000\n",
            "Epoch 28/50\n",
            "35/35 [==============================] - 0s 2ms/step - loss: 0.0127 - accuracy: 1.0000 - val_loss: 0.0106 - val_accuracy: 1.0000\n",
            "Epoch 29/50\n",
            "35/35 [==============================] - 0s 3ms/step - loss: 0.0122 - accuracy: 1.0000 - val_loss: 0.0099 - val_accuracy: 1.0000\n",
            "Epoch 30/50\n",
            "35/35 [==============================] - 0s 2ms/step - loss: 0.0115 - accuracy: 1.0000 - val_loss: 0.0094 - val_accuracy: 1.0000\n",
            "Epoch 31/50\n",
            "35/35 [==============================] - 0s 2ms/step - loss: 0.0110 - accuracy: 1.0000 - val_loss: 0.0090 - val_accuracy: 1.0000\n",
            "Epoch 32/50\n",
            "35/35 [==============================] - 0s 2ms/step - loss: 0.0105 - accuracy: 1.0000 - val_loss: 0.0084 - val_accuracy: 1.0000\n",
            "Epoch 33/50\n",
            "35/35 [==============================] - 0s 2ms/step - loss: 0.0100 - accuracy: 1.0000 - val_loss: 0.0080 - val_accuracy: 1.0000\n",
            "Epoch 34/50\n",
            "35/35 [==============================] - 0s 2ms/step - loss: 0.0096 - accuracy: 1.0000 - val_loss: 0.0076 - val_accuracy: 1.0000\n",
            "Epoch 35/50\n",
            "35/35 [==============================] - 0s 2ms/step - loss: 0.0091 - accuracy: 1.0000 - val_loss: 0.0072 - val_accuracy: 1.0000\n",
            "Epoch 36/50\n",
            "35/35 [==============================] - 0s 2ms/step - loss: 0.0087 - accuracy: 1.0000 - val_loss: 0.0069 - val_accuracy: 1.0000\n",
            "Epoch 37/50\n",
            "35/35 [==============================] - 0s 2ms/step - loss: 0.0084 - accuracy: 1.0000 - val_loss: 0.0066 - val_accuracy: 1.0000\n",
            "Epoch 38/50\n",
            "35/35 [==============================] - 0s 2ms/step - loss: 0.0080 - accuracy: 1.0000 - val_loss: 0.0062 - val_accuracy: 1.0000\n",
            "Epoch 39/50\n",
            "35/35 [==============================] - 0s 2ms/step - loss: 0.0077 - accuracy: 1.0000 - val_loss: 0.0059 - val_accuracy: 1.0000\n",
            "Epoch 40/50\n",
            "35/35 [==============================] - 0s 2ms/step - loss: 0.0073 - accuracy: 1.0000 - val_loss: 0.0056 - val_accuracy: 1.0000\n",
            "Epoch 41/50\n",
            "35/35 [==============================] - 0s 3ms/step - loss: 0.0070 - accuracy: 1.0000 - val_loss: 0.0054 - val_accuracy: 1.0000\n",
            "Epoch 42/50\n",
            "35/35 [==============================] - 0s 2ms/step - loss: 0.0068 - accuracy: 1.0000 - val_loss: 0.0052 - val_accuracy: 1.0000\n",
            "Epoch 43/50\n",
            "35/35 [==============================] - 0s 2ms/step - loss: 0.0065 - accuracy: 1.0000 - val_loss: 0.0050 - val_accuracy: 1.0000\n",
            "Epoch 44/50\n",
            "35/35 [==============================] - 0s 2ms/step - loss: 0.0064 - accuracy: 1.0000 - val_loss: 0.0048 - val_accuracy: 1.0000\n",
            "Epoch 45/50\n",
            "35/35 [==============================] - 0s 2ms/step - loss: 0.0060 - accuracy: 1.0000 - val_loss: 0.0046 - val_accuracy: 1.0000\n",
            "Epoch 46/50\n",
            "35/35 [==============================] - 0s 2ms/step - loss: 0.0058 - accuracy: 1.0000 - val_loss: 0.0044 - val_accuracy: 1.0000\n",
            "Epoch 47/50\n",
            "35/35 [==============================] - 0s 2ms/step - loss: 0.0056 - accuracy: 1.0000 - val_loss: 0.0043 - val_accuracy: 1.0000\n",
            "Epoch 48/50\n",
            "35/35 [==============================] - 0s 3ms/step - loss: 0.0053 - accuracy: 1.0000 - val_loss: 0.0041 - val_accuracy: 1.0000\n",
            "Epoch 49/50\n",
            "35/35 [==============================] - 0s 2ms/step - loss: 0.0051 - accuracy: 1.0000 - val_loss: 0.0039 - val_accuracy: 1.0000\n",
            "Epoch 50/50\n",
            "35/35 [==============================] - 0s 2ms/step - loss: 0.0049 - accuracy: 1.0000 - val_loss: 0.0037 - val_accuracy: 1.0000\n"
          ],
          "name": "stdout"
        }
      ]
    },
    {
      "cell_type": "code",
      "metadata": {
        "colab": {
          "base_uri": "https://localhost:8080/",
          "height": 573
        },
        "id": "cx-S9cD2Czze",
        "outputId": "bb328441-208f-462c-8ccd-5fc61fcdaf84"
      },
      "source": [
        "#Loss and accuracy plot\n",
        "loss_plot(hist_elu)\n",
        "acc_plot(hist_elu)"
      ],
      "execution_count": 89,
      "outputs": [
        {
          "output_type": "display_data",
          "data": {
            "image/png": "[encoded data removed]",
            "text/plain": [
              "<Figure size 432x288 with 1 Axes>"
            ]
          },
          "metadata": {
            "tags": [],
            "needs_background": "light"
          }
        },
        {
          "output_type": "display_data",
          "data": {
            "image/png": "[encoded data removed]",
            "text/plain": [
              "<Figure size 432x288 with 1 Axes>"
            ]
          },
          "metadata": {
            "tags": [],
            "needs_background": "light"
          }
        }
      ]
    },
    {
      "cell_type": "markdown",
      "metadata": {
        "id": "HJOWPxJoAa76"
      },
      "source": [
        "### PRelu"
      ]
    },
    {
      "cell_type": "code",
      "metadata": {
        "id": "svd3z19hAa-m"
      },
      "source": [
        "#initialize the model \n",
        "feat = x.shape[1]\n",
        "p_model = Sequential()\n",
        "p_model.add(Dense(50,activation=PReLU(),input_shape=(feat,)))\n",
        "p_model.add(Dense(1,activation='sigmoid'))\n",
        "p_model.compile(loss='binary_crossentropy',optimizer='adam',metrics=['accuracy'])"
      ],
      "execution_count": 96,
      "outputs": []
    },
    {
      "cell_type": "code",
      "metadata": {
        "colab": {
          "base_uri": "https://localhost:8080/"
        },
        "id": "Ybp1bq0dAbAu",
        "outputId": "8d395891-8440-4774-dda9-a6dbc4de1f1f"
      },
      "source": [
        "hist_pr = p_model.fit(x_train,y_train,validation_data=(x_val,y_val),epochs=50,batch_size=32,verbose=1)"
      ],
      "execution_count": 97,
      "outputs": [
        {
          "output_type": "stream",
          "text": [
            "Epoch 1/50\n",
            "35/35 [==============================] - 1s 6ms/step - loss: 0.6667 - accuracy: 0.6673 - val_loss: 0.4236 - val_accuracy: 0.8727\n",
            "Epoch 2/50\n",
            "35/35 [==============================] - 0s 2ms/step - loss: 0.3684 - accuracy: 0.8979 - val_loss: 0.2861 - val_accuracy: 0.9382\n",
            "Epoch 3/50\n",
            "35/35 [==============================] - 0s 2ms/step - loss: 0.2584 - accuracy: 0.9544 - val_loss: 0.2122 - val_accuracy: 0.9491\n",
            "Epoch 4/50\n",
            "35/35 [==============================] - 0s 2ms/step - loss: 0.1926 - accuracy: 0.9681 - val_loss: 0.1635 - val_accuracy: 0.9600\n",
            "Epoch 5/50\n",
            "35/35 [==============================] - 0s 2ms/step - loss: 0.1498 - accuracy: 0.9754 - val_loss: 0.1300 - val_accuracy: 0.9673\n",
            "Epoch 6/50\n",
            "35/35 [==============================] - 0s 2ms/step - loss: 0.1200 - accuracy: 0.9827 - val_loss: 0.1060 - val_accuracy: 0.9745\n",
            "Epoch 7/50\n",
            "35/35 [==============================] - 0s 2ms/step - loss: 0.0988 - accuracy: 0.9945 - val_loss: 0.0873 - val_accuracy: 0.9818\n",
            "Epoch 8/50\n",
            "35/35 [==============================] - 0s 2ms/step - loss: 0.0824 - accuracy: 0.9964 - val_loss: 0.0746 - val_accuracy: 0.9891\n",
            "Epoch 9/50\n",
            "35/35 [==============================] - 0s 2ms/step - loss: 0.0704 - accuracy: 0.9964 - val_loss: 0.0635 - val_accuracy: 1.0000\n",
            "Epoch 10/50\n",
            "35/35 [==============================] - 0s 2ms/step - loss: 0.0608 - accuracy: 0.9982 - val_loss: 0.0546 - val_accuracy: 1.0000\n",
            "Epoch 11/50\n",
            "35/35 [==============================] - 0s 2ms/step - loss: 0.0530 - accuracy: 0.9973 - val_loss: 0.0480 - val_accuracy: 1.0000\n",
            "Epoch 12/50\n",
            "35/35 [==============================] - 0s 2ms/step - loss: 0.0466 - accuracy: 0.9982 - val_loss: 0.0418 - val_accuracy: 1.0000\n",
            "Epoch 13/50\n",
            "35/35 [==============================] - 0s 2ms/step - loss: 0.0415 - accuracy: 0.9991 - val_loss: 0.0368 - val_accuracy: 1.0000\n",
            "Epoch 14/50\n",
            "35/35 [==============================] - 0s 2ms/step - loss: 0.0371 - accuracy: 1.0000 - val_loss: 0.0330 - val_accuracy: 1.0000\n",
            "Epoch 15/50\n",
            "35/35 [==============================] - 0s 3ms/step - loss: 0.0334 - accuracy: 1.0000 - val_loss: 0.0297 - val_accuracy: 1.0000\n",
            "Epoch 16/50\n",
            "35/35 [==============================] - 0s 2ms/step - loss: 0.0304 - accuracy: 1.0000 - val_loss: 0.0267 - val_accuracy: 1.0000\n",
            "Epoch 17/50\n",
            "35/35 [==============================] - 0s 2ms/step - loss: 0.0276 - accuracy: 1.0000 - val_loss: 0.0243 - val_accuracy: 1.0000\n",
            "Epoch 18/50\n",
            "35/35 [==============================] - 0s 2ms/step - loss: 0.0253 - accuracy: 1.0000 - val_loss: 0.0219 - val_accuracy: 1.0000\n",
            "Epoch 19/50\n",
            "35/35 [==============================] - 0s 2ms/step - loss: 0.0233 - accuracy: 1.0000 - val_loss: 0.0199 - val_accuracy: 1.0000\n",
            "Epoch 20/50\n",
            "35/35 [==============================] - 0s 2ms/step - loss: 0.0214 - accuracy: 1.0000 - val_loss: 0.0183 - val_accuracy: 1.0000\n",
            "Epoch 21/50\n",
            "35/35 [==============================] - 0s 2ms/step - loss: 0.0198 - accuracy: 1.0000 - val_loss: 0.0168 - val_accuracy: 1.0000\n",
            "Epoch 22/50\n",
            "35/35 [==============================] - 0s 2ms/step - loss: 0.0184 - accuracy: 1.0000 - val_loss: 0.0156 - val_accuracy: 1.0000\n",
            "Epoch 23/50\n",
            "35/35 [==============================] - 0s 2ms/step - loss: 0.0171 - accuracy: 1.0000 - val_loss: 0.0145 - val_accuracy: 1.0000\n",
            "Epoch 24/50\n",
            "35/35 [==============================] - 0s 3ms/step - loss: 0.0160 - accuracy: 1.0000 - val_loss: 0.0133 - val_accuracy: 1.0000\n",
            "Epoch 25/50\n",
            "35/35 [==============================] - 0s 2ms/step - loss: 0.0149 - accuracy: 1.0000 - val_loss: 0.0123 - val_accuracy: 1.0000\n",
            "Epoch 26/50\n",
            "35/35 [==============================] - 0s 2ms/step - loss: 0.0140 - accuracy: 1.0000 - val_loss: 0.0114 - val_accuracy: 1.0000\n",
            "Epoch 27/50\n",
            "35/35 [==============================] - 0s 2ms/step - loss: 0.0131 - accuracy: 1.0000 - val_loss: 0.0105 - val_accuracy: 1.0000\n",
            "Epoch 28/50\n",
            "35/35 [==============================] - 0s 2ms/step - loss: 0.0123 - accuracy: 1.0000 - val_loss: 0.0099 - val_accuracy: 1.0000\n",
            "Epoch 29/50\n",
            "35/35 [==============================] - 0s 2ms/step - loss: 0.0116 - accuracy: 1.0000 - val_loss: 0.0093 - val_accuracy: 1.0000\n",
            "Epoch 30/50\n",
            "35/35 [==============================] - 0s 2ms/step - loss: 0.0110 - accuracy: 1.0000 - val_loss: 0.0087 - val_accuracy: 1.0000\n",
            "Epoch 31/50\n",
            "35/35 [==============================] - 0s 2ms/step - loss: 0.0105 - accuracy: 1.0000 - val_loss: 0.0082 - val_accuracy: 1.0000\n",
            "Epoch 32/50\n",
            "35/35 [==============================] - 0s 2ms/step - loss: 0.0098 - accuracy: 1.0000 - val_loss: 0.0077 - val_accuracy: 1.0000\n",
            "Epoch 33/50\n",
            "35/35 [==============================] - 0s 2ms/step - loss: 0.0094 - accuracy: 1.0000 - val_loss: 0.0072 - val_accuracy: 1.0000\n",
            "Epoch 34/50\n",
            "35/35 [==============================] - 0s 2ms/step - loss: 0.0089 - accuracy: 1.0000 - val_loss: 0.0069 - val_accuracy: 1.0000\n",
            "Epoch 35/50\n",
            "35/35 [==============================] - 0s 2ms/step - loss: 0.0084 - accuracy: 1.0000 - val_loss: 0.0065 - val_accuracy: 1.0000\n",
            "Epoch 36/50\n",
            "35/35 [==============================] - 0s 2ms/step - loss: 0.0080 - accuracy: 1.0000 - val_loss: 0.0062 - val_accuracy: 1.0000\n",
            "Epoch 37/50\n",
            "35/35 [==============================] - 0s 2ms/step - loss: 0.0076 - accuracy: 1.0000 - val_loss: 0.0059 - val_accuracy: 1.0000\n",
            "Epoch 38/50\n",
            "35/35 [==============================] - 0s 3ms/step - loss: 0.0073 - accuracy: 1.0000 - val_loss: 0.0056 - val_accuracy: 1.0000\n",
            "Epoch 39/50\n",
            "35/35 [==============================] - 0s 2ms/step - loss: 0.0070 - accuracy: 1.0000 - val_loss: 0.0053 - val_accuracy: 1.0000\n",
            "Epoch 40/50\n",
            "35/35 [==============================] - 0s 2ms/step - loss: 0.0066 - accuracy: 1.0000 - val_loss: 0.0051 - val_accuracy: 1.0000\n",
            "Epoch 41/50\n",
            "35/35 [==============================] - 0s 2ms/step - loss: 0.0063 - accuracy: 1.0000 - val_loss: 0.0048 - val_accuracy: 1.0000\n",
            "Epoch 42/50\n",
            "35/35 [==============================] - 0s 2ms/step - loss: 0.0061 - accuracy: 1.0000 - val_loss: 0.0046 - val_accuracy: 1.0000\n",
            "Epoch 43/50\n",
            "35/35 [==============================] - 0s 2ms/step - loss: 0.0058 - accuracy: 1.0000 - val_loss: 0.0044 - val_accuracy: 1.0000\n",
            "Epoch 44/50\n",
            "35/35 [==============================] - 0s 2ms/step - loss: 0.0056 - accuracy: 1.0000 - val_loss: 0.0042 - val_accuracy: 1.0000\n",
            "Epoch 45/50\n",
            "35/35 [==============================] - 0s 2ms/step - loss: 0.0053 - accuracy: 1.0000 - val_loss: 0.0040 - val_accuracy: 1.0000\n",
            "Epoch 46/50\n",
            "35/35 [==============================] - 0s 2ms/step - loss: 0.0051 - accuracy: 1.0000 - val_loss: 0.0038 - val_accuracy: 1.0000\n",
            "Epoch 47/50\n",
            "35/35 [==============================] - 0s 2ms/step - loss: 0.0049 - accuracy: 1.0000 - val_loss: 0.0037 - val_accuracy: 1.0000\n",
            "Epoch 48/50\n",
            "35/35 [==============================] - 0s 2ms/step - loss: 0.0048 - accuracy: 1.0000 - val_loss: 0.0035 - val_accuracy: 1.0000\n",
            "Epoch 49/50\n",
            "35/35 [==============================] - 0s 2ms/step - loss: 0.0045 - accuracy: 1.0000 - val_loss: 0.0034 - val_accuracy: 1.0000\n",
            "Epoch 50/50\n",
            "35/35 [==============================] - 0s 2ms/step - loss: 0.0044 - accuracy: 1.0000 - val_loss: 0.0032 - val_accuracy: 1.0000\n"
          ],
          "name": "stdout"
        }
      ]
    },
    {
      "cell_type": "code",
      "metadata": {
        "colab": {
          "base_uri": "https://localhost:8080/",
          "height": 573
        },
        "id": "8wJ5JHeiAyTw",
        "outputId": "e1e63799-82d2-49cd-e808-6143d719b3f4"
      },
      "source": [
        "#Loss and accuracy plot\n",
        "loss_plot(hist_pr)\n",
        "acc_plot(hist_pr)"
      ],
      "execution_count": 98,
      "outputs": [
        {
          "output_type": "display_data",
          "data": {
            "image/png": "[encoded data removed]",
            "text/plain": [
              "<Figure size 432x288 with 1 Axes>"
            ]
          },
          "metadata": {
            "tags": [],
            "needs_background": "light"
          }
        },
        {
          "output_type": "display_data",
          "data": {
            "image/png": "[encoded data removed]",
            "text/plain": [
              "<Figure size 432x288 with 1 Axes>"
            ]
          },
          "metadata": {
            "tags": [],
            "needs_background": "light"
          }
        }
      ]
    },
    {
      "cell_type": "markdown",
      "metadata": {
        "id": "oo6mybtwE4lw"
      },
      "source": [
        "As we Experiment on the different activation functions we have , by considering all the cases, **LeakyRelu** activation function perform well both on train and test data, it converges quickle through the global minima."
      ]
    },
    {
      "cell_type": "code",
      "metadata": {
        "colab": {
          "base_uri": "https://localhost:8080/",
          "height": 573
        },
        "id": "xOgpvfvYGaMq",
        "outputId": "5ba8b5d0-65c7-4b53-be16-2868cf452f46"
      },
      "source": [
        "#Loss and accuracy plot for the LeakyRelu\n",
        "loss_plot(hist_lrel)\n",
        "acc_plot(hist_lrel)"
      ],
      "execution_count": 111,
      "outputs": [
        {
          "output_type": "display_data",
          "data": {
            "image/png": "[encoded data removed]",
            "text/plain": [
              "<Figure size 432x288 with 1 Axes>"
            ]
          },
          "metadata": {
            "tags": [],
            "needs_background": "light"
          }
        },
        {
          "output_type": "display_data",
          "data": {
            "image/png": "[encoded data removed]",
            "text/plain": [
              "<Figure size 432x288 with 1 Axes>"
            ]
          },
          "metadata": {
            "tags": [],
            "needs_background": "light"
          }
        }
      ]
    },
    {
      "cell_type": "markdown",
      "metadata": {
        "id": "lfYUrUbxNa_N"
      },
      "source": [
        "At the end of training, we will evaluate the model’s performance on the test dataset and report performance as the classification accuracy."
      ]
    },
    {
      "cell_type": "code",
      "metadata": {
        "colab": {
          "base_uri": "https://localhost:8080/"
        },
        "id": "zwDit1f2Nli6",
        "outputId": "f233965a-d464-4c07-886a-bdb3a9571f66"
      },
      "source": [
        "from sklearn.metrics import accuracy_score\n",
        "# predict test set\n",
        "yhat = l_model.predict_classes(x_val)\n",
        "# evaluate predictions\n",
        "score = accuracy_score(y_val, yhat)\n",
        "print('Accuracy : %.3f' % score)"
      ],
      "execution_count": 112,
      "outputs": [
        {
          "output_type": "stream",
          "text": [
            "Accuracy : 1.000\n"
          ],
          "name": "stdout"
        },
        {
          "output_type": "stream",
          "text": [
            "/usr/local/lib/python3.7/dist-packages/tensorflow/python/keras/engine/sequential.py:455: UserWarning: `model.predict_classes()` is deprecated and will be removed after 2021-01-01. Please use instead:* `np.argmax(model.predict(x), axis=-1)`,   if your model does multi-class classification   (e.g. if it uses a `softmax` last-layer activation).* `(model.predict(x) > 0.5).astype(\"int32\")`,   if your model does binary classification   (e.g. if it uses a `sigmoid` last-layer activation).\n",
            "  warnings.warn('`model.predict_classes()` is deprecated and '\n"
          ],
          "name": "stderr"
        }
      ]
    },
    {
      "cell_type": "code",
      "metadata": {
        "colab": {
          "base_uri": "https://localhost:8080/"
        },
        "id": "ybipldDdHCrg",
        "outputId": "ae4a9f40-9104-4df3-c2df-9a4467963d06"
      },
      "source": [
        "l_model.trainable_weights"
      ],
      "execution_count": 113,
      "outputs": [
        {
          "output_type": "execute_result",
          "data": {
            "text/plain": [
              "[<tf.Variable 'dense_56/kernel:0' shape=(4, 10) dtype=float32, numpy=\n",
              " array([[-1.0191457 ,  0.43691105, -0.24920474,  0.91669387,  1.1209365 ,\n",
              "          0.17461905,  0.30388984,  0.38420722, -1.1818974 , -0.73866546],\n",
              "        [ 0.12706555,  0.8034793 , -0.09776583,  0.34244478,  0.5177767 ,\n",
              "         -0.1604144 ,  0.9389532 ,  0.05366395, -0.3934279 , -0.01984872],\n",
              "        [ 0.64960986, -0.17276475, -0.56822956, -0.01981766,  0.8746438 ,\n",
              "          0.28390008,  0.78429264, -0.73570484, -0.09717001, -0.9764796 ],\n",
              "        [ 0.21970525,  0.14473073, -0.7532152 , -0.37142417, -0.3458716 ,\n",
              "          0.26863584,  0.07149642,  0.34521458,  1.3007131 ,  0.13457708]],\n",
              "       dtype=float32)>,\n",
              " <tf.Variable 'dense_56/bias:0' shape=(10,) dtype=float32, numpy=\n",
              " array([ 0.30863136, -0.35084096,  0.6415316 ,  0.05500666,  0.44968727,\n",
              "        -0.01826408, -0.04380936,  0.17380986,  0.8931041 ,  0.7091936 ],\n",
              "       dtype=float32)>,\n",
              " <tf.Variable 'dense_57/kernel:0' shape=(10, 1) dtype=float32, numpy=\n",
              " array([[ 0.2933338 ],\n",
              "        [-0.37113386],\n",
              "        [ 0.5880925 ],\n",
              "        [-0.44298902],\n",
              "        [-0.6951934 ],\n",
              "        [-0.3590017 ],\n",
              "        [-0.61465156],\n",
              "        [ 0.542976  ],\n",
              "        [ 1.0765252 ],\n",
              "        [ 1.0486454 ]], dtype=float32)>,\n",
              " <tf.Variable 'dense_57/bias:0' shape=(1,) dtype=float32, numpy=array([0.24318656], dtype=float32)>]"
            ]
          },
          "metadata": {
            "tags": []
          },
          "execution_count": 113
        }
      ]
    },
    {
      "cell_type": "code",
      "metadata": {
        "colab": {
          "base_uri": "https://localhost:8080/"
        },
        "id": "HEiynveDJlOR",
        "outputId": "6e8703b6-ad43-4003-9f50-82f46429678b"
      },
      "source": [
        "from sklearn.metrics import classification_report,confusion_matrix,f1_score\n",
        "print(classification_report(y_val,yhat))\n",
        "print(confusion_matrix(y_val,yhat))"
      ],
      "execution_count": 126,
      "outputs": [
        {
          "output_type": "stream",
          "text": [
            "              precision    recall  f1-score   support\n",
            "\n",
            "           0       1.00      1.00      1.00       157\n",
            "           1       1.00      1.00      1.00       118\n",
            "\n",
            "    accuracy                           1.00       275\n",
            "   macro avg       1.00      1.00      1.00       275\n",
            "weighted avg       1.00      1.00      1.00       275\n",
            "\n",
            "[[157   0]\n",
            " [  0 118]]\n"
          ],
          "name": "stdout"
        }
      ]
    },
    {
      "cell_type": "code",
      "metadata": {
        "id": "gDR9I-T_KSOy"
      },
      "source": [
        ""
      ],
      "execution_count": null,
      "outputs": []
    }
  ]
}